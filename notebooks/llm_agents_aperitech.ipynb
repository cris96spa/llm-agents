{
 "cells": [
  {
   "cell_type": "code",
   "execution_count": 1,
   "metadata": {},
   "outputs": [
    {
     "name": "stdout",
     "output_type": "stream",
     "text": [
      "/Users/cristian/Personal/Projects/llm_agents\n"
     ]
    }
   ],
   "source": [
    "import os\n",
    "from dotenv import load_dotenv\n",
    "while not os.getcwd().endswith(\"llm_agents\"):\n",
    "    os.chdir(\"..\")\n",
    "print(os.getcwd())\n",
    "\n",
    "load_dotenv();\n",
    "%load_ext autoreload\n",
    "%autoreload 2"
   ]
  },
  {
   "cell_type": "markdown",
   "metadata": {},
   "source": [
    "# Aperitech - LLM Agents: LangChain and LangGraph\n"
   ]
  },
  {
   "cell_type": "markdown",
   "metadata": {},
   "source": [
    "## What is LangChain?"
   ]
  },
  {
   "cell_type": "markdown",
   "metadata": {},
   "source": [
    "Langchain is a framework for developing and building applications powerd by large language models. As the name suggests, it allow to build a workflow as a chain of modular operations that can be executed in sequence or in parallel. The framework provides a common interface for:\n",
    "- Prompting\n",
    "- Information retrieval\n",
    "- Interacting with language models, supporting also chatbot-like interactions\n",
    "- Structuring the LLM output\n",
    "- Persistence of interactions\n",
    "- Tool management\n",
    "- Orchestration\n",
    "\n",
    "![alt text](https://python.langchain.com/svg/langchain_stack_112024_dark.svg)\n",
    "\n",
    "   "
   ]
  },
  {
   "cell_type": "markdown",
   "metadata": {},
   "source": [
    "## What is LangGraph?"
   ]
  },
  {
   "cell_type": "markdown",
   "metadata": {},
   "source": [
    "\n",
    "LangGraph is a graph-based library for building stateful, multi-actor applications with LLMs, used to create agent and multi-agent workflows. As a very low-level framework, it provides fine-grained control over both the flow and state of your application, crucial for creating reliable agents. Additionally, LangGraph includes built-in persistence, enabling advanced human-in-the-loop and memory features. I can be used both as a standalone library or as a part of LangChain. among its features:\n",
    "- `Cycles` and Branching: Implement loops and conditionals in your apps.\n",
    "- `Persistence`: Automatically save state after each step in the graph. Pause and resume the graph execution at any point to support error recovery, human-in-the-loop workflows, time travel and more.\n",
    "- `Human-in-the-Loop`: Interrupt graph execution to approve or edit next action planned by the agent.\n",
    "- `Streaming Support`: Stream outputs as they are produced by each node (including token streaming).\n"
   ]
  },
  {
   "cell_type": "markdown",
   "metadata": {},
   "source": [
    "### Why LangGraph?"
   ]
  },
  {
   "cell_type": "markdown",
   "metadata": {},
   "source": [
    "LLMs are extremely powerful, particularly when connected to other systems such as a retriever or APIs.\n",
    "Often a control flow of steps before and / or after an LLM is called a \"chain.\" Chains are a popular paradigm for programming with LLMs and offer a high degree of reliability; the same set of steps runs with each chain invocation.\n",
    "\n",
    "However, we often want LLM systems that can pick their own control flow! This is one definition of an `agent`: an agent is a system that uses an LLM to decide the control flow of an application. Unlike a chain, an agent gives an LLM some degree of control over the sequence of steps in the application. Rather than a fixed sequence of steps, an agent can decide which steps to take based on the output of the LLM. This includes:\n",
    "\n",
    "- Routing between two potential paths\n",
    "- Deciding which of many tools to call\n",
    "- Is the generated answer sufficient or more work is needed?\n",
    "  "
   ]
  },
  {
   "cell_type": "markdown",
   "metadata": {},
   "source": [
    "### Agent Architectures"
   ]
  },
  {
   "cell_type": "markdown",
   "metadata": {},
   "source": [
    "There are different types of agent architecrures to consider, giving the LLM different degrees of control over the application. On one extreme, a router allow an LLM to select a single step from a list of fixed options. On the other extreme, a fully autonomous agent gives the LLM full freedom to select any sequence of steps it want to solve a given problem. In between, there are many other shade of of gray.\n",
    "\n",
    "![alt text](https://langchain-ai.github.io/langgraph/concepts/img/agent_types.png)\n",
    "\n",
    "Desplite the chosen architecture, there are some common concepts that are shared by all agents:\n",
    "- `Tool calling`: the agent can call tools not only to perform specific tasks but also to make decisions.\n",
    "- `Action selection`: the agent can select the next action to take based on the output of the LLM.\n",
    "- `Memory`: the agent can store information between steps or between different interactions with the user.\n",
    "- `Planning`: the agent can plan a sequence of actions to achieve a goal.\n",
    "\n",
    "In practice, there is often a trade-off between control and reliability. The more control the LLM has over the application, the less reliable it is. This can be due to the LLM making mistakes, non-determinism in the environment, or other factors. The goal of `LangGraph` is to help to bend the curve preserving higher reliability as we give the agent more control over the application.\n",
    "![alt text](https://langchain-ai.github.io/langgraph/concepts/img/langgraph.png)"
   ]
  },
  {
   "cell_type": "markdown",
   "metadata": {},
   "source": [
    "### Graph Components"
   ]
  },
  {
   "cell_type": "markdown",
   "metadata": {},
   "source": [
    "At its core, LangGraph models the agent workflows as graphs. You define the behavior of your agents using three key components:\n",
    "1. `State`: a shared data structure that represents the current snapshot of the application.\n",
    "2. `Nodes`: Python functions that encode the logic of your agents. They receive the current State as input (or a subset of the State), perform some computation or side-effect, and return an updated State. `They do the actual work`.\n",
    "3. `Edges`: Python functions that determine which Node to execute next based on the current State. They can be conditional branches or fixed transitions. They tell the agent `what to do next`.\n",
    "\n",
    "**How does it work?**\n",
    "\n",
    "The underlying graph algorithm, uses the `message passing` paradigm to define a general program. When a Node completes its operation, it sends a message along one or more edges to other node(s). These receiving nodes then execute their functions, pass the resulting message to the next set of nodes, and so on.\n",
    "A single iteration over the graph nodes is called a `super-step`. Nodes that runs in parallel are part of the same super-step, whereas nodes that run in sequence are part of different super-steps.\n",
    "At the beginning of the execution, all nodes start in an `inactive` state. After receiving a message, a node becomes `active` then run its function and responds with updates. At the end of the super-step, nodes with no incoming messages vote to `halt` marking themselves as `inactive`.\n",
    "\n",
    "To build a graph, you need first to define the `State`, then the `Nodes` and finally the `Edges`. You then create the graph with a `NetworkX` like style, and finally you compile and run the graph."
   ]
  },
  {
   "cell_type": "markdown",
   "metadata": {},
   "source": [
    "#### Workflow"
   ]
  },
  {
   "cell_type": "markdown",
   "metadata": {},
   "source": [
    "The real power of the architecture comes from how LangGraph manages the State. The State consists of the schema of the graph as well as reducer functions specifying how to update the element of the State. The Schema can be defined either using `TypeDict` or a Pydantic `BaseModel`. \n",
    "\n",
    "**Multiple Schemas**\n",
    "\n",
    "By default, the graph will have the same input and ouput schemas, however,there are cases where you might need more control over this, for example:\n",
    "- Internal nodes can pass information that is not required in the graph's input/output\n",
    "- We may want to use different input/output schemas for the graph. The output, might include only a subset of properties.\n",
    "\n",
    "It is possible to have nodes write to private state channels inside the graph for internal node communication. We can simply define a private schema, PrivateState. See [this notebook](https://langchain-ai.github.io/langgraph/how-tos/pass_private_state/) for more detail.\n",
    "\n",
    "It is also possible to define explicit input and output schemas for a graph. In these cases, we define an \"internal\" schema that contains all keys relevant to graph operations. But, we also define input and output schemas that are sub-sets of the \"internal\" schema to constrain the input and output of the graph. See [this notebook](https://langchain-ai.github.io/langgraph/how-tos/input_output_schema/) for more detail.\n"
   ]
  },
  {
   "cell_type": "markdown",
   "metadata": {},
   "source": [
    "**State Reducers**\n",
    "\n",
    "Reducers are the key to understand how updates from nodes are applied to the State. Each property of the state has its own independent reducer function. If no reducer is defined, the default behavior is to replace the value of the property."
   ]
  },
  {
   "cell_type": "code",
   "execution_count": 2,
   "metadata": {},
   "outputs": [],
   "source": [
    "from typing import Annotated, Literal, Sequence\n",
    "\n",
    "from langchain_core.messages import HumanMessage, BaseMessage\n",
    "from langchain_openai import ChatOpenAI\n",
    "from langchain_core.tools import tool\n",
    "from langgraph.graph.message import add_messages\n",
    "from langgraph.checkpoint.memory import MemorySaver\n",
    "from langgraph.graph import END, START, StateGraph\n",
    "from langgraph.prebuilt import ToolNode\n",
    "from pydantic import BaseModel\n",
    "from IPython.display import Image, display"
   ]
  },
  {
   "cell_type": "code",
   "execution_count": 3,
   "metadata": {},
   "outputs": [],
   "source": [
    "# Every time a node updates the state, the whole list of messages\n",
    "# will be replaced with the new one.\n",
    "class AgentStateNoReducerFunction(BaseModel):\n",
    "    \"\"\"State of an agent with no reducer function\"\"\"\n",
    "    messages: Sequence[BaseMessage]\n",
    "\n",
    "# The presence of a reducer function allows allow the agend to:\n",
    "# - Append the new messages if they have different ids\n",
    "# - Update the previous messages if they have the same id\n",
    "# This allow a more efficient management of the state\n",
    "class AgentState(BaseModel):\n",
    "    \"\"\"State of an agent with a reducer function\"\"\"\n",
    "    messages: Annotated[Sequence[BaseMessage], add_messages]"
   ]
  },
  {
   "cell_type": "markdown",
   "metadata": {},
   "source": [
    "### Building a Simple Graph-based Agent\n",
    "We will now build a simple graph-based agent that takes as input a user request and calls a tool to generate the answer.\n"
   ]
  },
  {
   "cell_type": "markdown",
   "metadata": {},
   "source": [
    "#### 1. Initialize the model and tools\n",
    "We use `ChatOpenAI` as our LLM. To make sure the model knows it has some available tools, we need to convert the `LangChain` tools into the `OpenAI` tool calling format with `.bind_tools()`.\n",
    "\n",
    "[Here](https://python.langchain.com/docs/how_to/custom_tools/) you can find more information on how to create custom tools."
   ]
  },
  {
   "cell_type": "code",
   "execution_count": 4,
   "metadata": {},
   "outputs": [],
   "source": [
    "# Define the tools the agent can use\n",
    "@tool\n",
    "def search(query: str):\n",
    "    \"\"\"Call to surf the web.\"\"\"\n",
    "    # This is a placeholder, but don't tell the LLM that...\n",
    "    if \"sf\" in query.lower() or \"san francisco\" in query.lower():\n",
    "        return \"It's 60 degrees and foggy.\"\n",
    "    return \"It's 90 degrees and sunny.\"\n",
    "\n",
    "# Tools are threated as a list of functions\n",
    "tools = [search]\n",
    "\n",
    "# Initialize a ChatOpenAI instance\n",
    "model_name = 'gpt-4o'\n",
    "temperature = 0.\n",
    "model = ChatOpenAI(model=model_name, temperature=temperature).bind_tools(tools)"
   ]
  },
  {
   "cell_type": "markdown",
   "metadata": {},
   "source": [
    "#### 2. Define the State\n",
    "We use a simple Pydantic BaseModel that contains a sequence of BaseMessage objects, with the appropriate reducer function."
   ]
  },
  {
   "cell_type": "code",
   "execution_count": 5,
   "metadata": {},
   "outputs": [],
   "source": [
    "class AgentState(BaseModel):\n",
    "    \"\"\"State of an agent with a reducer function\"\"\"\n",
    "    messages: Annotated[Sequence[BaseMessage], add_messages]"
   ]
  },
  {
   "cell_type": "markdown",
   "metadata": {},
   "source": [
    "#### 3. Define the Nodes of the graph\n",
    "There are two main nodes we need:\n",
    "\n",
    "- The `agent node`: responsible for deciding what (if any) actions to take.\n",
    "- The `tools node` that invokes tools: if the agent decides to take an action, this node will then execute that action."
   ]
  },
  {
   "cell_type": "code",
   "execution_count": 6,
   "metadata": {},
   "outputs": [],
   "source": [
    "# Define the function that calls the model\n",
    "def call_model(state: AgentState) -> AgentState:\n",
    "    response = model.invoke(state.messages)\n",
    "    # We return a list, because this will get added to the existing list\n",
    "    return {\"messages\": [response]}\n",
    "\n",
    "# To define the tool node, we can rely on the ToolNode class\n",
    "tool_node = ToolNode(tools)"
   ]
  },
  {
   "cell_type": "markdown",
   "metadata": {},
   "source": [
    "#### 4. Define entry point and graph edges.\n",
    "First, we need to set the entry point for graph execution - agent node.\n",
    "\n",
    "Then we define one normal and one conditional edge. Conditional edge means that the destination depends on the contents of the graph's state (AgentState). In our case, the destination is not known until the agent (LLM) decides.\n",
    "\n",
    "Conditional edge: after the agent is called, we should either:\n",
    "- a. Run tools if the agent said to take an action, OR\n",
    "- b. Finish (respond to the user) if the agent did not ask to run tools\n",
    "\n",
    "Normal edge: after the tools are invoked, the graph should always return to the agent to decide what to do next"
   ]
  },
  {
   "cell_type": "code",
   "execution_count": 7,
   "metadata": {},
   "outputs": [
    {
     "data": {
      "text/plain": [
       "<langgraph.graph.state.StateGraph at 0x10d027b60>"
      ]
     },
     "execution_count": 7,
     "metadata": {},
     "output_type": "execute_result"
    }
   ],
   "source": [
    "# Define the function that determines whether to continue or not\n",
    "def should_continue(state: AgentState) -> Literal[\"tools\", END]:\n",
    "    messages = state.messages\n",
    "    last_message = messages[-1]\n",
    "    # If the LLM makes a tool call, then we route to the \"tools\" node\n",
    "    if last_message.tool_calls:\n",
    "        return \"tools\"\n",
    "    # Otherwise, we stop (reply to the user)\n",
    "    return END\n",
    "\n",
    "# Define a new graph\n",
    "workflow = StateGraph(AgentState)\n",
    "\n",
    "# Define the two nodes we will cycle between\n",
    "workflow.add_node(\"agent\", call_model)\n",
    "workflow.add_node(\"tools\", tool_node)\n",
    "\n",
    "# Set the entrypoint as `agent`\n",
    "# This means that this node is the first one called\n",
    "workflow.add_edge(START, \"agent\")\n",
    "\n",
    "# We now add a conditional edge\n",
    "workflow.add_conditional_edges(\n",
    "    # First, we define the start node. We use `agent`.\n",
    "    # This means these are the edges taken after the `agent` node is called.\n",
    "    \"agent\",\n",
    "    # Next, we pass in the function that will determine which node is called next.\n",
    "    should_continue,\n",
    ")\n",
    "\n",
    "# We now add a normal edge from `tools` to `agent`.\n",
    "# This means that after `tools` is called, `agent` node is called next.\n",
    "workflow.add_edge(\"tools\", 'agent')"
   ]
  },
  {
   "cell_type": "markdown",
   "metadata": {},
   "source": [
    "#### 5. Compile and run the graph\n",
    "To make the graph executable, we need to compile it. This will create a LangChain `Runnable` that can be invoked with the input data."
   ]
  },
  {
   "cell_type": "code",
   "execution_count": 8,
   "metadata": {},
   "outputs": [
    {
     "data": {
      "image/png": "[encoded data removed]",
      "text/plain": [
       "<IPython.core.display.Image object>"
      ]
     },
     "metadata": {},
     "output_type": "display_data"
    }
   ],
   "source": [
    "# Finally, we compile it!\n",
    "# This compiles it into a LangChain Runnable,\n",
    "# meaning you can use it as you would any other runnable.\n",
    "app = workflow.compile()\n",
    "\n",
    "# To display the graph, we can use the `draw_mermaid_png` method\n",
    "display(\n",
    "    Image(\n",
    "        app.get_graph().draw_mermaid_png()\n",
    "    )\n",
    ")"
   ]
  },
  {
   "cell_type": "markdown",
   "metadata": {},
   "source": [
    "#### 6. Execute the graph\n",
    "The workflow is the following:\n",
    "1. LangGraph adds the input message to the internal state, then passes the state to the entrypoint node, `\"agent\"`.\n",
    "2. The `\"agent\"` node executes, invoking the chat model.\n",
    "3. The chat model returns an `AIMessage`. LangGraph adds this to the state.\n",
    "4. Graph cycles the following steps until there are no more `tool_calls` on `AIMessage`:\n",
    "    - If `AIMessage` has `tool_calls`, `\"tools\"` node executes\n",
    "    - The `\"agent\"` node executes again and returns `AIMessage`\n",
    "Execution progresses to the special `END` value and outputs the final state. And as a result, we get a list of all our chat messages as output."
   ]
  },
  {
   "cell_type": "code",
   "execution_count": 10,
   "metadata": {},
   "outputs": [
    {
     "data": {
      "text/plain": [
       "'The current weather in Milan is 90 degrees and sunny.'"
      ]
     },
     "execution_count": 10,
     "metadata": {},
     "output_type": "execute_result"
    }
   ],
   "source": [
    "# Use the Runnable\n",
    "final_state = app.invoke(\n",
    "    {\"messages\": [HumanMessage(content=\"what is the weather in Milan?\")]},\n",
    "    config={\"configurable\": {\"thread_id\": 42}}\n",
    ")\n",
    "final_state[\"messages\"][-1].content"
   ]
  },
  {
   "cell_type": "markdown",
   "metadata": {},
   "source": [
    "### Agent with Structured Output\n",
    "You might want your agent to return its output in a structured format. For example, if the output of the agent is used by some other downstream software, you may want the output to be in the same structured format every time the agent is invoked to ensure consistency. Basically, there are two different options to reach this goal:\n",
    "1. Add a tool for structuring the output\n",
    "2. Set an explicit post-processing step in the graph\n",
    "\n",
    "Both of the options will use the same graph structure as shown in the diagram below, but will have different mechanisms under the hood.\n",
    "![alt text](./images/structured_output_graph.png)"
   ]
  },
  {
   "cell_type": "markdown",
   "metadata": {},
   "source": [
    "#### Option 1: Add a tool for structuring the output\n",
    "The first way you can force your tool calling agent to have structured output is to bind the output you would like as an additional tool for the agent node to use. In contrast to the basic ReAct agent, the agent node in this case is not selecting between tools and END but rather selecting between the specific tools it calls. Then, among these tools there might be one or more tools responsable for structuring the output and deciding where to route the output (either ending the execution or moving to the next step).\n",
    "\n",
    "![alt text](./images/structured_output_tool.png)\n",
    "\n",
    "**Pros:**\n",
    "The benefit to this format is that you only need one LLM, and can save money and latency because of this. The agent can be more flexible in its output, and can be more easily modified to have different output structures.\n",
    "\n",
    "**Cons:**\n",
    "The downside to this option is that it isn't guaranteed that the single LLM will call the correct tool when you want it to. We can help the LLM by setting `tool_choice` to `any` when we use `bind_tools` which forces the LLM to select at least one tool at every turn, but this is far from a fool proof strategy. In addition, another downside is that the agent might call multiple tools, so we need to check for this explicitly in our routing function (or if we are using OpenAI we an set `parallell_tool_calling=False` to ensure only one tool is called at a time).\n",
    "\n",
    "An important note is the necessity of adding another response node to answer the user and provide the actual structured output. The idea is that, despite the agent can use a BaseModel as a tool, the actual answer will be a serialized object, whose parameters are are all strings. To convert this to an actual Object, we add this step that takes the arguments of that function call and return the object itself.\n",
    "\n",
    "This is the reason why the two graph structure are the same."
   ]
  },
  {
   "cell_type": "markdown",
   "metadata": {},
   "source": [
    "### Option 2: Explicit post-process\n",
    "The second way you can force your tool calling agent to have structured output is to use a second LLM (in this case `model_with_structured_output`) to parse the output of the first LLM.\n",
    "\n",
    "![alt text](./images/structured_output_postprocess.png)\n",
    "In this case, you will define a basic ReAct agent normally, but instead of having the agent node choose between the tools node and ending the conversation, the agent node will choose between the tools node and the respond node. The respond node will contain a second LLM that uses structured output, and once called will return directly to the user. You can think of this method as basic ReAct with one extra step before responding to the user.\n",
    "\n",
    "**Pros:**\n",
    "The benefit of this method is that it guarantees structured output (as long as `.with_structured_output` works as expected with the LLM).\n",
    "\n",
    "**Cons:**\n",
    "On the other hand, using this approach requires an additional LLM call before responding to the user, meaning additional cost and latency. \n",
    "Moreover, if the `agent` LLM (the one using tools) is not aware of the desired output schema, there is the risk that the agent LLM will fail to call the correct tools to generate the desired output. This can be mitigated with appropriate prompting and tool selection strategies, at the cost of increasing again the cost and latency of the system."
   ]
  },
  {
   "cell_type": "markdown",
   "metadata": {},
   "source": [
    "Let us explore an example. First we define how we want to structure our output, define our graph state, and also our tools and the models we are going to use. To use structured output, we will use the with_structured_output method from LangChain, which you can read more about [here](https://python.langchain.com/docs/how_to/structured_output/).\n",
    "\n",
    "We are going to use a single tool in this example for finding the weather, and will return a structured weather response to the user."
   ]
  },
  {
   "cell_type": "code",
   "execution_count": 11,
   "metadata": {},
   "outputs": [],
   "source": [
    "from typing import Annotated, Literal, Sequence\n",
    "from pydantic import BaseModel, Field\n",
    "from typing import Literal\n",
    "from langchain_core.messages import HumanMessage, BaseMessage\n",
    "from langchain_openai import ChatOpenAI\n",
    "from langchain_core.tools import tool\n",
    "from langgraph.graph.message import add_messages\n",
    "\n",
    "\n",
    "# Define the BaseModel that will be used as the structured output\n",
    "class WeatherResponse(BaseModel):\n",
    "    \"\"\"Respond to the user with this\"\"\"\n",
    "    temperature: float = Field(description=\"The temperature in fahrenheit\")\n",
    "    wind_directon: str = Field(\n",
    "        description=\"The direction of the wind in abbreviated form\"\n",
    "    )\n",
    "    wind_speed: float = Field(description=\"The speed of the wind in km/h\")\n",
    "\n",
    "class BaseState(BaseModel):\n",
    "    \"\"\"Base state of the agent\"\"\"\n",
    "    messages: Annotated[Sequence[BaseMessage], add_messages]\n",
    "\n",
    "# Define the state of the agent\n",
    "class AgentState(BaseState):\n",
    "    \"\"\" State of the agent\"\"\"\n",
    "    # Final structured response from the agent\n",
    "    final_response: WeatherResponse | None = Field(\n",
    "        description=\"The final response from the agent\",\n",
    "        default=None,\n",
    "    )\n",
    "    \n",
    "\n",
    "@tool\n",
    "def get_weather(city: Literal[\"nyc\", \"sf\"]):\n",
    "    \"\"\"Use this to get weather information.\"\"\"\n",
    "    if city == \"nyc\":\n",
    "        return \"It is cloudy in NYC, with 5 mph winds in the North-East direction and a temperature of 70 degrees\"\n",
    "    elif city == \"sf\":\n",
    "        return \"It is 75 degrees and sunny in SF, with 3 mph winds in the South-East direction\"\n",
    "    else:\n",
    "        raise AssertionError(\"Unknown city\")\n",
    "\n",
    "\n",
    "# Define the tools the agent can use\n",
    "tools = [get_weather]\n",
    "\n",
    "# Initialize a ChatOpenAI instance\n",
    "model = ChatOpenAI(model=\"gpt-4o\", temperature=0.0)"
   ]
  },
  {
   "cell_type": "markdown",
   "metadata": {},
   "source": [
    "### Option 1: Add a tool for structuring the output\n",
    "The graph definition is very similar to the one above, the only difference is we no longer call an LLM in the `response` node, and instead bind the `WeatherResponse` tool to our LLM that already contains the `get_weather` tool.\n"
   ]
  },
  {
   "cell_type": "code",
   "execution_count": 12,
   "metadata": {},
   "outputs": [
    {
     "data": {
      "image/png": "[encoded data removed]",
      "text/plain": [
       "<IPython.core.display.Image object>"
      ]
     },
     "metadata": {},
     "output_type": "display_data"
    }
   ],
   "source": [
    "from langgraph.graph import StateGraph, END\n",
    "from langgraph.prebuilt import ToolNode\n",
    "\n",
    "# We can simply use the BaseModel we defined earlier as a tool for the structured output\n",
    "tools = [get_weather, WeatherResponse]\n",
    "\n",
    "# Force the model to use tools by passing tool_choice=\"any\"\n",
    "model_with_response_tool = model.bind_tools(tools, tool_choice=\"any\")\n",
    "\n",
    "\n",
    "# Define the function that calls the model.\n",
    "# This represent the agent node\n",
    "def call_model(state: BaseState):\n",
    "    response = model_with_response_tool.invoke(state.messages)\n",
    "    # We return a list, because this will get added to the existing list\n",
    "    return {\"messages\": [response]}\n",
    "\n",
    "\n",
    "# Define the function that responds to the user\n",
    "# This perform the actual parsing of the response, taking the parameters to initialize\n",
    "# the base model from the arguments of the last tool call\n",
    "def respond(state: BaseState):\n",
    "    # Construct the final answer from the arguments of the last tool call\n",
    "    response = WeatherResponse(**state.messages[-1].tool_calls[0][\"args\"])\n",
    "    # We return the final answer\n",
    "    return {\"final_response\": response}\n",
    "\n",
    "\n",
    "# Define the function that determins the conditional logic of the agent.\n",
    "def should_continue(state: BaseState):\n",
    "    messages = state.messages\n",
    "    last_message = messages[-1]\n",
    "    # If there is only one tool call and it is the response tool call we respond to the user\n",
    "    if (\n",
    "        len(last_message.tool_calls) == 1\n",
    "        and last_message.tool_calls[0][\"name\"] == \"WeatherResponse\"\n",
    "    ):\n",
    "        return \"respond\"\n",
    "    # Otherwise we will use the tool node again\n",
    "    else:\n",
    "        return \"continue\"\n",
    "\n",
    "\n",
    "# Define a new graph\n",
    "workflow = StateGraph(AgentState)\n",
    "\n",
    "# Define the two nodes we will cycle between\n",
    "workflow.add_node(\"agent\", call_model)\n",
    "workflow.add_node(\"respond\", respond)\n",
    "workflow.add_node(\"tools\", ToolNode(tools))\n",
    "\n",
    "# Set the entrypoint as `agent`\n",
    "# This means that this node is the first one called\n",
    "workflow.set_entry_point(\"agent\")\n",
    "\n",
    "# We now add a conditional edge\n",
    "workflow.add_conditional_edges(\n",
    "    \"agent\",\n",
    "    should_continue,\n",
    "    {\n",
    "        \"continue\": \"tools\",\n",
    "        \"respond\": \"respond\",\n",
    "    },\n",
    ")\n",
    "\n",
    "workflow.add_edge(\"tools\", \"agent\")\n",
    "workflow.add_edge(\"respond\", END)\n",
    "graph = workflow.compile()\n",
    "\n",
    "display(\n",
    "    Image(\n",
    "        graph.get_graph().draw_mermaid_png()\n",
    "    )\n",
    ")"
   ]
  },
  {
   "cell_type": "code",
   "execution_count": 13,
   "metadata": {},
   "outputs": [
    {
     "data": {
      "text/plain": [
       "WeatherResponse(temperature=75.0, wind_directon='SE', wind_speed=4.82803)"
      ]
     },
     "execution_count": 13,
     "metadata": {},
     "output_type": "execute_result"
    }
   ],
   "source": [
    "answer = graph.invoke(input={\"messages\": [(\"human\", \"what's the weather in SF?\")]})[\n",
    "    \"final_response\"\n",
    "]\n",
    "answer"
   ]
  },
  {
   "cell_type": "markdown",
   "metadata": {},
   "source": [
    "### Option 2: Explicit post-process\n",
    "Let's now dive into how we would use a second LLM to force structured output.\n"
   ]
  },
  {
   "cell_type": "code",
   "execution_count": 14,
   "metadata": {},
   "outputs": [
    {
     "data": {
      "image/png": "[encoded data removed]",
      "text/plain": [
       "<IPython.core.display.Image object>"
      ]
     },
     "metadata": {},
     "output_type": "display_data"
    }
   ],
   "source": [
    "from langgraph.graph import StateGraph, END\n",
    "from langgraph.prebuilt import ToolNode\n",
    "from langchain_core.messages import HumanMessage\n",
    "\n",
    "\n",
    "# Define the tools the agent can use\n",
    "tools = [get_weather]\n",
    "\n",
    "# The difference with respect to previouse example is that here we do not\n",
    "# need to force the agent to use the tools. Therefore, no need to use `tool_choice=\"any\"`\n",
    "model_with_tools = model.bind_tools(tools)\n",
    "model_with_structured_output = model.with_structured_output(WeatherResponse)\n",
    "\n",
    "# Define the function that calls the model.\n",
    "# This represent the agent node\n",
    "def call_model(state: BaseState):\n",
    "    response = model_with_tools.invoke(state.messages)\n",
    "    # We return a list, because this will get added to the existing list\n",
    "    return {\"messages\": [response]}\n",
    "\n",
    "# Define the function that responds to the user\n",
    "def respond(state: BaseState):\n",
    "    # Here, the respond node call another LLM, this time with structured output\n",
    "    # in order to return the same format to the user every time.\n",
    "    # We could have sent the entire chat history, sending just the `state.messages[-2]` saves tokens.\n",
    "    # The reason we use `state.messages[-2]` is because:\n",
    "    # state.messages[-1] is the response from the first model, wheras state.messages[-2] is the last ToolMessage\n",
    "    response = model_with_structured_output.invoke(\n",
    "        [HumanMessage(content=state.messages[-2].content)]\n",
    "    )\n",
    "    # We return the final answer\n",
    "    return {\"final_response\": response}\n",
    "\n",
    "\n",
    "# Define the function that determines whether to continue or not\n",
    "def should_continue(state: BaseState):\n",
    "    messages = state.messages\n",
    "    last_message = messages[-1]\n",
    "    # If there is no function call, then we respond to the user\n",
    "    if not last_message.tool_calls:\n",
    "        return \"respond\"\n",
    "    # Otherwise if there is, we continue\n",
    "    else:\n",
    "        return \"continue\"\n",
    "\n",
    "\n",
    "# Define a new graph\n",
    "workflow = StateGraph(AgentState)\n",
    "\n",
    "# Define the two nodes we will cycle between\n",
    "workflow.add_node(\"agent\", call_model)\n",
    "workflow.add_node(\"respond\", respond)\n",
    "workflow.add_node(\"tools\", ToolNode(tools))\n",
    "\n",
    "# Set the entrypoint as `agent`\n",
    "# This means that this node is the first one called\n",
    "workflow.set_entry_point(\"agent\")\n",
    "\n",
    "# We now add a conditional edge\n",
    "workflow.add_conditional_edges(\n",
    "    \"agent\",\n",
    "    should_continue,\n",
    "    {\n",
    "        \"continue\": \"tools\",\n",
    "        \"respond\": \"respond\",\n",
    "    },\n",
    ")\n",
    "\n",
    "workflow.add_edge(\"tools\", \"agent\")\n",
    "workflow.add_edge(\"respond\", END)\n",
    "graph = workflow.compile()\n",
    "\n",
    "display(\n",
    "    Image(\n",
    "        graph.get_graph().draw_mermaid_png()\n",
    "    )\n",
    ")"
   ]
  },
  {
   "cell_type": "code",
   "execution_count": 15,
   "metadata": {},
   "outputs": [
    {
     "data": {
      "text/plain": [
       "WeatherResponse(temperature=75.0, wind_directon='SE', wind_speed=4.82803)"
      ]
     },
     "execution_count": 15,
     "metadata": {},
     "output_type": "execute_result"
    }
   ],
   "source": [
    "answer = graph.invoke(input={\"messages\": [(\"human\", \"what's the weather in SF?\")]})[\n",
    "    \"final_response\"\n",
    "]\n",
    "answer"
   ]
  },
  {
   "cell_type": "markdown",
   "metadata": {},
   "source": [
    "### How to debug?\n",
    "`LangSmith` is a platform for building production-grade LLM applications. It allows you to monitor and evaluate your application, visualizing the message exchange with the LLMs. If interested, you can find more information [here](https://python.langchain.com/docs/how_to/debugging/).\n",
    "\n",
    "The main drawback of using LangSmith is that it is not free. It has a free-tier, but for more advanced features you will need to pay. An open-source alternative is [LangFuse](https://github.com/langfuse/langfuse). It presents a similar interface providing a completely free self-hosted solution and a cloud-based solution with a larger free-tier, compared to LangSmith."
   ]
  },
  {
   "cell_type": "code",
   "execution_count": 17,
   "metadata": {},
   "outputs": [
    {
     "data": {
      "text/plain": [
       "WeatherResponse(temperature=75.0, wind_directon='SE', wind_speed=4.82803)"
      ]
     },
     "execution_count": 17,
     "metadata": {},
     "output_type": "execute_result"
    }
   ],
   "source": [
    "from langfuse.callback import CallbackHandler\n",
    "langfuse_handler = CallbackHandler()\n",
    "config = {'callbacks': [langfuse_handler]}\n",
    "\n",
    "answer = graph.invoke(\n",
    "    input={\"messages\": [(\"human\", \"what's the weather in SF?\")]},\n",
    "    config=config,\n",
    ")[\n",
    "    \"final_response\"\n",
    "]\n",
    "answer"
   ]
  },
  {
   "cell_type": "code",
   "execution_count": null,
   "metadata": {},
   "outputs": [],
   "source": []
  }
 ],
 "metadata": {
  "kernelspec": {
   "display_name": ".venv",
   "language": "python",
   "name": "python3"
  },
  "language_info": {
   "codemirror_mode": {
    "name": "ipython",
    "version": 3
   },
   "file_extension": ".py",
   "mimetype": "text/x-python",
   "name": "python",
   "nbconvert_exporter": "python",
   "pygments_lexer": "ipython3",
   "version": "3.12.7"
  }
 },
 "nbformat": 4,
 "nbformat_minor": 2
}
