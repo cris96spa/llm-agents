{
 "cells": [
  {
   "cell_type": "code",
   "execution_count": 1,
   "metadata": {},
   "outputs": [
    {
     "name": "stdout",
     "output_type": "stream",
     "text": [
      "/Users/cristian/Personal/Projects/llm_agents\n"
     ]
    }
   ],
   "source": [
    "import os\n",
    "from dotenv import load_dotenv\n",
    "while not os.getcwd().endswith(\"llm_agents\"):\n",
    "    os.chdir(\"..\")\n",
    "print(os.getcwd())\n",
    "\n",
    "load_dotenv();\n",
    "%load_ext autoreload\n",
    "%autoreload 2"
   ]
  },
  {
   "cell_type": "markdown",
   "metadata": {},
   "source": [
    "# Aperitech - LLM Agents: LangChain and LangGraph\n"
   ]
  },
  {
   "cell_type": "markdown",
   "metadata": {},
   "source": [
    "## What is LangChain?"
   ]
  },
  {
   "cell_type": "markdown",
   "metadata": {},
   "source": [
    "Langchain is a framework for developing and building applications powerd by large language models. As the name suggests, it allow to build a workflow as a chain of modular operations that can be executed in sequence or in parallel. The framework provides a common interface for:\n",
    "- Prompting\n",
    "- Information retrieval\n",
    "- Interacting with language models, supporting also chatbot-like interactions\n",
    "- Structuring the LLM output\n",
    "- Persistence of interactions\n",
    "- Tool management\n",
    "- Orchestration\n",
    "\n",
    "![alt text](https://python.langchain.com/svg/langchain_stack_112024_dark.svg)\n",
    "\n",
    "   "
   ]
  },
  {
   "cell_type": "markdown",
   "metadata": {},
   "source": [
    "## What is LangGraph?"
   ]
  },
  {
   "cell_type": "markdown",
   "metadata": {},
   "source": [
    "\n",
    "LangGraph is a graph-based library for building stateful, multi-actor applications with LLMs, used to create agent and multi-agent workflows. As a very low-level framework, it provides fine-grained control over both the flow and state of your application, crucial for creating reliable agents. Additionally, LangGraph includes built-in persistence, enabling advanced human-in-the-loop and memory features. I can be used both as a standalone library or as a part of LangChain. among its features:\n",
    "- `Cycles` and Branching: Implement loops and conditionals in your apps.\n",
    "- `Persistence`: Automatically save state after each step in the graph. Pause and resume the graph execution at any point to support error recovery, human-in-the-loop workflows, time travel and more.\n",
    "- `Human-in-the-Loop`: Interrupt graph execution to approve or edit next action planned by the agent.\n",
    "- `Streaming Support`: Stream outputs as they are produced by each node (including token streaming).\n"
   ]
  },
  {
   "cell_type": "markdown",
   "metadata": {},
   "source": [
    "### Why LangGraph?"
   ]
  },
  {
   "cell_type": "markdown",
   "metadata": {},
   "source": [
    "LLMs are extremely powerful, particularly when connected to other systems such as a retriever or APIs.\n",
    "Often a control flow of steps before and / or after an LLM is called a \"chain.\" Chains are a popular paradigm for programming with LLMs and offer a high degree of reliability; the same set of steps runs with each chain invocation.\n",
    "\n",
    "However, we often want LLM systems that can pick their own control flow! This is one definition of an `agent`: an agent is a system that uses an LLM to decide the control flow of an application. Unlike a chain, an agent gives an LLM some degree of control over the sequence of steps in the application. Rather than a fixed sequence of steps, an agent can decide which steps to take based on the output of the LLM. This includes:\n",
    "\n",
    "- Routing between two potential paths\n",
    "- Deciding which of many tools to call\n",
    "- Is the generated answer sufficient or more work is needed?\n",
    "  "
   ]
  },
  {
   "cell_type": "markdown",
   "metadata": {},
   "source": [
    "### Agent Architectures"
   ]
  },
  {
   "cell_type": "markdown",
   "metadata": {},
   "source": [
    "There are different types of agent architecrures to consider, giving the LLM different degrees of control over the application. On one extreme, a router allow an LLM to select a single step from a list of fixed options. On the other extreme, a fully autonomous agent gives the LLM full freedom to select any sequence of steps it want to solve a given problem. In between, there are many other shade of of gray.\n",
    "\n",
    "![alt text](https://langchain-ai.github.io/langgraph/concepts/img/agent_types.png)\n",
    "\n",
    "Desplite the chosen architecture, there are some common concepts that are shared by all agents:\n",
    "- `Tool calling`: the agent can call tools not only to perform specific tasks but also to make decisions.\n",
    "- `Action selection`: the agent can select the next action to take based on the output of the LLM.\n",
    "- `Memory`: the agent can store information between steps or between different interactions with the user.\n",
    "- `Planning`: the agent can plan a sequence of actions to achieve a goal.\n",
    "\n",
    "In practice, there is often a trade-off between control and reliability. The more control the LLM has over the application, the less reliable it is. This can be due to the LLM making mistakes, non-determinism in the environment, or other factors. The goal of `LangGraph` is to help to bend the curve preserving higher reliability as we give the agent more control over the application.\n",
    "![alt text](https://langchain-ai.github.io/langgraph/concepts/img/langgraph.png)"
   ]
  },
  {
   "cell_type": "markdown",
   "metadata": {},
   "source": [
    "### Graph Components"
   ]
  },
  {
   "cell_type": "markdown",
   "metadata": {},
   "source": [
    "At its core, LangGraph models the agent workflows as graphs. You define the behavior of your agents using three key components:\n",
    "1. `State`: a shared data structure that represents the current snapshot of the application.\n",
    "2. `Nodes`: Python functions that encode the logic of your agents. They receive the current State as input (or a subset of the State), perform some computation or side-effect, and return an updated State. `They do the actual work`.\n",
    "3. `Edges`: Python functions that determine which Node to execute next based on the current State. They can be conditional branches or fixed transitions. They tell the agent `what to do next`.\n",
    "\n",
    "**How does it work?**\n",
    "\n",
    "The underlying graph algorithm, uses the `message passing` paradigm to define a general program. When a Node completes its operation, it sends a message along one or more edges to other node(s). These receiving nodes then execute their functions, pass the resulting message to the next set of nodes, and so on.\n",
    "A single iteration over the graph nodes is called a `super-step`. Nodes that runs in parallel are part of the same super-step, whereas nodes that run in sequence are part of different super-steps.\n",
    "At the beginning of the execution, all nodes start in an `inactive` state. After receiving a message, a node becomes `active` then run its function and responds with updates. At the end of the super-step, nodes with no incoming messages vote to `halt` marking themselves as `inactive`.\n",
    "\n",
    "To build a graph, you need first to define the `State`, then the `Nodes` and finally the `Edges`. You then create the graph with a `NetworkX` like style, and finally you compile and run the graph."
   ]
  },
  {
   "cell_type": "markdown",
   "metadata": {},
   "source": [
    "#### Workflow"
   ]
  },
  {
   "cell_type": "markdown",
   "metadata": {},
   "source": [
    "The real power of the architecture comes from how LangGraph manages the State. The State consists of the schema of the graph as well as reducer functions specifying how to update the element of the State. The Schema can be defined either using `TypeDict` or a Pydantic `BaseModel`. \n",
    "\n",
    "**Multiple Schemas**\n",
    "\n",
    "By default, the graph will have the same input and ouput schemas, however,there are cases where you might need more control over this, for example:\n",
    "- Internal nodes can pass information that is not required in the graph's input/output\n",
    "- We may want to use different input/output schemas for the graph. The output, might include only a subset of properties.\n",
    "\n",
    "It is possible to have nodes write to private state channels inside the graph for internal node communication. We can simply define a private schema, PrivateState. See [this notebook](https://langchain-ai.github.io/langgraph/how-tos/pass_private_state/) for more detail.\n",
    "\n",
    "It is also possible to define explicit input and output schemas for a graph. In these cases, we define an \"internal\" schema that contains all keys relevant to graph operations. But, we also define input and output schemas that are sub-sets of the \"internal\" schema to constrain the input and output of the graph. See [this notebook](https://langchain-ai.github.io/langgraph/how-tos/input_output_schema/) for more detail.\n"
   ]
  },
  {
   "cell_type": "markdown",
   "metadata": {},
   "source": [
    "**State Reducers**\n",
    "\n",
    "Reducers are the key to understand how updates from nodes are applied to the State. Each property of the state has its own independent reducer function. If no reducer is defined, the default behavior is to replace the value of the property."
   ]
  },
  {
   "cell_type": "code",
   "execution_count": 2,
   "metadata": {},
   "outputs": [],
   "source": [
    "from typing import Annotated, Literal, Sequence\n",
    "\n",
    "from langchain_core.messages import HumanMessage, BaseMessage\n",
    "from langchain_openai import ChatOpenAI\n",
    "from langchain_core.tools import tool\n",
    "from langgraph.graph.message import add_messages\n",
    "from langgraph.checkpoint.memory import MemorySaver\n",
    "from langgraph.graph import END, START, StateGraph\n",
    "from langgraph.prebuilt import ToolNode\n",
    "from pydantic import BaseModel\n",
    "from IPython.display import Image, display"
   ]
  },
  {
   "cell_type": "code",
   "execution_count": 3,
   "metadata": {},
   "outputs": [],
   "source": [
    "# Every time a node updates the state, the whole list of messages\n",
    "# will be replaced with the new one.\n",
    "class AgentStateNoReducerFunction(BaseModel):\n",
    "    \"\"\"State of an agent with no reducer function\"\"\"\n",
    "    messages: Sequence[BaseMessage]\n",
    "\n",
    "# The presence of a reducer function allows allow the agend to:\n",
    "# - Append the new messages if they have different ids\n",
    "# - Update the previous messages if they have the same id\n",
    "# This allow a more efficient management of the state\n",
    "class AgentState(BaseModel):\n",
    "    \"\"\"State of an agent with a reducer function\"\"\"\n",
    "    messages: Annotated[Sequence[BaseMessage], add_messages]"
   ]
  },
  {
   "cell_type": "markdown",
   "metadata": {},
   "source": [
    "### Building a Simple Graph-based Agent\n",
    "We will now build a simple graph-based agent that takes as input a user request and calls a tool to generate the answer.\n"
   ]
  },
  {
   "cell_type": "markdown",
   "metadata": {},
   "source": [
    "#### 1. Initialize the model and tools\n",
    "We use `ChatOpenAI` as our LLM. To make sure the model knows it has some available tools, we need to convert the `LangChain` tools into the `OpenAI` tool calling format with `.bind_tools()`.\n",
    "\n",
    "[Here](https://python.langchain.com/docs/how_to/custom_tools/) you can find more information on how to create custom tools."
   ]
  },
  {
   "cell_type": "code",
   "execution_count": 4,
   "metadata": {},
   "outputs": [],
   "source": [
    "# Define the tools the agent can use\n",
    "@tool\n",
    "def search(query: str):\n",
    "    \"\"\"Call to surf the web.\"\"\"\n",
    "    # This is a placeholder, but don't tell the LLM that...\n",
    "    if \"sf\" in query.lower() or \"san francisco\" in query.lower():\n",
    "        return \"It's 60 degrees and foggy.\"\n",
    "    return \"It's 90 degrees and sunny.\"\n",
    "\n",
    "# Tools are threated as a list of functions\n",
    "tools = [search]\n",
    "\n",
    "# Initialize a ChatOpenAI instance\n",
    "model_name = 'gpt-4o'\n",
    "temperature = 0.\n",
    "model = ChatOpenAI(model=model_name, temperature=temperature).bind_tools(tools)"
   ]
  },
  {
   "cell_type": "markdown",
   "metadata": {},
   "source": [
    "#### 2. Define the State\n",
    "We use a simple Pydantic BaseModel that contains a sequence of BaseMessage objects, with the appropriate reducer function."
   ]
  },
  {
   "cell_type": "code",
   "execution_count": 5,
   "metadata": {},
   "outputs": [],
   "source": [
    "class AgentState(BaseModel):\n",
    "    \"\"\"State of an agent with a reducer function\"\"\"\n",
    "    messages: Annotated[Sequence[BaseMessage], add_messages]"
   ]
  },
  {
   "cell_type": "markdown",
   "metadata": {},
   "source": [
    "#### 3. Define the Nodes of the graph\n",
    "There are two main nodes we need:\n",
    "\n",
    "- The `agent node`: responsible for deciding what (if any) actions to take.\n",
    "- The `tools node` that invokes tools: if the agent decides to take an action, this node will then execute that action."
   ]
  },
  {
   "cell_type": "code",
   "execution_count": 6,
   "metadata": {},
   "outputs": [],
   "source": [
    "# Define the function that calls the model\n",
    "def call_model(state: AgentState) -> AgentState:\n",
    "    response = model.invoke(state.messages)\n",
    "    # We return a list, because this will get added to the existing list\n",
    "    return {\"messages\": [response]}\n",
    "\n",
    "# To define the tool node, we can rely on the ToolNode class\n",
    "tool_node = ToolNode(tools)"
   ]
  },
  {
   "cell_type": "markdown",
   "metadata": {},
   "source": [
    "#### 4. Define entry point and graph edges.\n",
    "First, we need to set the entry point for graph execution - agent node.\n",
    "\n",
    "Then we define one normal and one conditional edge. Conditional edge means that the destination depends on the contents of the graph's state (AgentState). In our case, the destination is not known until the agent (LLM) decides.\n",
    "\n",
    "Conditional edge: after the agent is called, we should either:\n",
    "- a. Run tools if the agent said to take an action, OR\n",
    "- b. Finish (respond to the user) if the agent did not ask to run tools\n",
    "\n",
    "Normal edge: after the tools are invoked, the graph should always return to the agent to decide what to do next"
   ]
  },
  {
   "cell_type": "code",
   "execution_count": 7,
   "metadata": {},
   "outputs": [
    {
     "data": {
      "text/plain": [
       "<langgraph.graph.state.StateGraph at 0x104589e50>"
      ]
     },
     "execution_count": 7,
     "metadata": {},
     "output_type": "execute_result"
    }
   ],
   "source": [
    "# Define the function that determines whether to continue or not\n",
    "def should_continue(state: AgentState) -> Literal[\"tools\", END]:\n",
    "    messages = state.messages\n",
    "    last_message = messages[-1]\n",
    "    # If the LLM makes a tool call, then we route to the \"tools\" node\n",
    "    if last_message.tool_calls:\n",
    "        return \"tools\"\n",
    "    # Otherwise, we stop (reply to the user)\n",
    "    return END\n",
    "\n",
    "# Define a new graph\n",
    "workflow = StateGraph(AgentState)\n",
    "\n",
    "# Define the two nodes we will cycle between\n",
    "workflow.add_node(\"agent\", call_model)\n",
    "workflow.add_node(\"tools\", tool_node)\n",
    "\n",
    "# Set the entrypoint as `agent`\n",
    "# This means that this node is the first one called\n",
    "workflow.add_edge(START, \"agent\")\n",
    "\n",
    "# We now add a conditional edge\n",
    "workflow.add_conditional_edges(\n",
    "    # First, we define the start node. We use `agent`.\n",
    "    # This means these are the edges taken after the `agent` node is called.\n",
    "    \"agent\",\n",
    "    # Next, we pass in the function that will determine which node is called next.\n",
    "    should_continue,\n",
    ")\n",
    "\n",
    "# We now add a normal edge from `tools` to `agent`.\n",
    "# This means that after `tools` is called, `agent` node is called next.\n",
    "workflow.add_edge(\"tools\", 'agent')"
   ]
  },
  {
   "cell_type": "markdown",
   "metadata": {},
   "source": [
    "#### 5. Compile and run the graph\n",
    "To make the graph executable, we need to compile it. This will create a LangChain `Runnable` that can be invoked with the input data."
   ]
  },
  {
   "cell_type": "code",
   "execution_count": 8,
   "metadata": {},
   "outputs": [
    {
     "data": {
      "image/png": "[encoded data removed]",
      "text/plain": [
       "<IPython.core.display.Image object>"
      ]
     },
     "metadata": {},
     "output_type": "display_data"
    }
   ],
   "source": [
    "# Finally, we compile it!\n",
    "# This compiles it into a LangChain Runnable,\n",
    "# meaning you can use it as you would any other runnable.\n",
    "app = workflow.compile()\n",
    "\n",
    "# To display the graph, we can use the `draw_mermaid_png` method\n",
    "display(\n",
    "    Image(\n",
    "        app.get_graph().draw_mermaid_png()\n",
    "    )\n",
    ")"
   ]
  },
  {
   "cell_type": "markdown",
   "metadata": {},
   "source": [
    "#### 6. Execute the graph\n",
    "The workflow is the following:\n",
    "1. LangGraph adds the input message to the internal state, then passes the state to the entrypoint node, `\"agent\"`.\n",
    "2. The `\"agent\"` node executes, invoking the chat model.\n",
    "3. The chat model returns an `AIMessage`. LangGraph adds this to the state.\n",
    "4. Graph cycles the following steps until there are no more `tool_calls` on `AIMessage`:\n",
    "    - If `AIMessage` has `tool_calls`, `\"tools\"` node executes\n",
    "    - The `\"agent\"` node executes again and returns `AIMessage`\n",
    "Execution progresses to the special `END` value and outputs the final state. And as a result, we get a list of all our chat messages as output."
   ]
  },
  {
   "cell_type": "code",
   "execution_count": 9,
   "metadata": {},
   "outputs": [
    {
     "data": {
      "text/plain": [
       "'The current weather in Milan is 90 degrees and sunny.'"
      ]
     },
     "execution_count": 9,
     "metadata": {},
     "output_type": "execute_result"
    }
   ],
   "source": [
    "# Use the Runnable\n",
    "final_state = app.invoke(\n",
    "    {\"messages\": [HumanMessage(content=\"what is the weather in Milan?\")]},\n",
    "    config={\"configurable\": {\"thread_id\": 42}}\n",
    ")\n",
    "final_state[\"messages\"][-1].content"
   ]
  },
  {
   "cell_type": "markdown",
   "metadata": {},
   "source": [
    "### Agent with Structured Output\n",
    "You might want your agent to return its output in a structured format. For example, if the output of the agent is used by some other downstream software, you may want the output to be in the same structured format every time the agent is invoked to ensure consistency. Basically, there are two different options to reach this goal:\n",
    "1. Add a tool for structuring the output\n",
    "2. Set an explicit post-processing step in the graph\n",
    "\n",
    "Both of the options will use the same graph structure as shown in the diagram below, but will have different mechanisms under the hood.\n",
    "![alt text](./images/structured_output_graph.png)"
   ]
  },
  {
   "cell_type": "markdown",
   "metadata": {},
   "source": [
    "#### Option 1: Add a tool for structuring the output\n",
    "The first way you can force your tool calling agent to have structured output is to bind the output you would like as an additional tool for the agent node to use. In contrast to the basic ReAct agent, the agent node in this case is not selecting between tools and END but rather selecting between the specific tools it calls. Then, among these tools there might be one or more tools responsable for structuring the output and deciding where to route the output (either ending the execution or moving to the next step).\n",
    "\n",
    "![alt text](./images/structured_output_tool.png)\n",
    "\n",
    "**Pros:**\n",
    "The benefit to this format is that you only need one LLM, and can save money and latency because of this. The agent can be more flexible in its output, and can be more easily modified to have different output structures.\n",
    "\n",
    "**Cons:**\n",
    "The downside to this option is that it isn't guaranteed that the single LLM will call the correct tool when you want it to. We can help the LLM by setting `tool_choice` to `any` when we use `bind_tools` which forces the LLM to select at least one tool at every turn, but this is far from a fool proof strategy. In addition, another downside is that the agent might call multiple tools, so we need to check for this explicitly in our routing function (or if we are using OpenAI we an set `parallell_tool_calling=False` to ensure only one tool is called at a time).\n",
    "\n",
    "An important note is the necessity of adding another response node to answer the user and provide the actual structured output. The idea is that, despite the agent can use a BaseModel as a tool, the actual answer will be a serialized object, whose parameters are are all strings. To convert this to an actual Object, we add this step that takes the arguments of that function call and return the object itself.\n",
    "\n",
    "This is the reason why the two graph structure are the same."
   ]
  },
  {
   "cell_type": "markdown",
   "metadata": {},
   "source": [
    "### Option 2: Explicit post-process\n",
    "The second way you can force your tool calling agent to have structured output is to use a second LLM (in this case `model_with_structured_output`) to parse the output of the first LLM.\n",
    "\n",
    "![alt text](./images/structured_output_postprocess.png)\n",
    "In this case, you will define a basic ReAct agent normally, but instead of having the agent node choose between the tools node and ending the conversation, the agent node will choose between the tools node and the respond node. The respond node will contain a second LLM that uses structured output, and once called will return directly to the user. You can think of this method as basic ReAct with one extra step before responding to the user.\n",
    "\n",
    "**Pros:**\n",
    "The benefit of this method is that it guarantees structured output (as long as `.with_structured_output` works as expected with the LLM).\n",
    "\n",
    "**Cons:**\n",
    "On the other hand, using this approach requires an additional LLM call before responding to the user, meaning additional cost and latency. \n",
    "Moreover, if the `agent` LLM (the one using tools) is not aware of the desired output schema, there is the risk that the agent LLM will fail to call the correct tools to generate the desired output. This can be mitigated with appropriate prompting and tool selection strategies, at the cost of increasing again the cost and latency of the system."
   ]
  },
  {
   "cell_type": "markdown",
   "metadata": {},
   "source": [
    "Let us explore an example. First we define how we want to structure our output, define our graph state, and also our tools and the models we are going to use. To use structured output, we will use the with_structured_output method from LangChain, which you can read more about [here](https://python.langchain.com/docs/how_to/structured_output/).\n",
    "\n",
    "We are going to use a single tool in this example for finding the weather, and will return a structured weather response to the user."
   ]
  },
  {
   "cell_type": "code",
   "execution_count": 10,
   "metadata": {},
   "outputs": [],
   "source": [
    "from typing import Annotated, Literal, Sequence\n",
    "from pydantic import BaseModel, Field\n",
    "from typing import Literal\n",
    "from langchain_core.messages import HumanMessage, BaseMessage\n",
    "from langchain_openai import ChatOpenAI\n",
    "from langchain_core.tools import tool\n",
    "from langgraph.graph.message import add_messages\n",
    "\n",
    "\n",
    "# Define the BaseModel that will be used as the structured output\n",
    "class WeatherResponse(BaseModel):\n",
    "    \"\"\"Respond to the user with this\"\"\"\n",
    "    temperature: float = Field(description=\"The temperature in fahrenheit\")\n",
    "    wind_directon: str = Field(\n",
    "        description=\"The direction of the wind in abbreviated form\"\n",
    "    )\n",
    "    wind_speed: float = Field(description=\"The speed of the wind in km/h\")\n",
    "\n",
    "class BaseState(BaseModel):\n",
    "    \"\"\"Base state of the agent\"\"\"\n",
    "    messages: Annotated[Sequence[BaseMessage], add_messages]\n",
    "\n",
    "# Define the state of the agent\n",
    "class AgentState(BaseState):\n",
    "    \"\"\" State of the agent\"\"\"\n",
    "    # Final structured response from the agent\n",
    "    final_response: WeatherResponse | None = Field(\n",
    "        description=\"The final response from the agent\",\n",
    "        default=None,\n",
    "    )\n",
    "    \n",
    "\n",
    "@tool\n",
    "def get_weather(city: Literal[\"nyc\", \"sf\"]):\n",
    "    \"\"\"Use this to get weather information.\"\"\"\n",
    "    if city == \"nyc\":\n",
    "        return \"It is cloudy in NYC, with 5 mph winds in the North-East direction and a temperature of 70 degrees\"\n",
    "    elif city == \"sf\":\n",
    "        return \"It is 75 degrees and sunny in SF, with 3 mph winds in the South-East direction\"\n",
    "    else:\n",
    "        raise AssertionError(\"Unknown city\")\n",
    "\n",
    "\n",
    "# Define the tools the agent can use\n",
    "tools = [get_weather]\n",
    "\n",
    "# Initialize a ChatOpenAI instance\n",
    "model = ChatOpenAI(model=\"gpt-4o\", temperature=0.0)"
   ]
  },
  {
   "cell_type": "markdown",
   "metadata": {},
   "source": [
    "### Option 1: Add a tool for structuring the output\n",
    "The graph definition is very similar to the one above, the only difference is we no longer call an LLM in the `response` node, and instead bind the `WeatherResponse` tool to our LLM that already contains the `get_weather` tool.\n"
   ]
  },
  {
   "cell_type": "code",
   "execution_count": 11,
   "metadata": {},
   "outputs": [
    {
     "data": {
      "image/png": "[encoded data removed]",
      "text/plain": [
       "<IPython.core.display.Image object>"
      ]
     },
     "metadata": {},
     "output_type": "display_data"
    }
   ],
   "source": [
    "from langgraph.graph import StateGraph, END\n",
    "from langgraph.prebuilt import ToolNode\n",
    "\n",
    "# We can simply use the BaseModel we defined earlier as a tool for the structured output\n",
    "tools = [get_weather, WeatherResponse]\n",
    "\n",
    "# Force the model to use tools by passing tool_choice=\"any\"\n",
    "model_with_response_tool = model.bind_tools(tools, tool_choice=\"any\")\n",
    "\n",
    "\n",
    "# Define the function that calls the model.\n",
    "# This represent the agent node\n",
    "def call_model(state: BaseState):\n",
    "    response = model_with_response_tool.invoke(state.messages)\n",
    "    # We return a list, because this will get added to the existing list\n",
    "    return {\"messages\": [response]}\n",
    "\n",
    "\n",
    "# Define the function that responds to the user\n",
    "# This perform the actual parsing of the response, taking the parameters to initialize\n",
    "# the base model from the arguments of the last tool call\n",
    "def respond(state: BaseState):\n",
    "    # Construct the final answer from the arguments of the last tool call\n",
    "    response = WeatherResponse(**state.messages[-1].tool_calls[0][\"args\"])\n",
    "    # We return the final answer\n",
    "    return {\"final_response\": response}\n",
    "\n",
    "\n",
    "# Define the function that determins the conditional logic of the agent.\n",
    "def should_continue(state: BaseState):\n",
    "    messages = state.messages\n",
    "    last_message = messages[-1]\n",
    "    # If there is only one tool call and it is the response tool call we respond to the user\n",
    "    if (\n",
    "        len(last_message.tool_calls) == 1\n",
    "        and last_message.tool_calls[0][\"name\"] == \"WeatherResponse\"\n",
    "    ):\n",
    "        return \"respond\"\n",
    "    # Otherwise we will use the tool node again\n",
    "    else:\n",
    "        return \"continue\"\n",
    "\n",
    "\n",
    "# Define a new graph\n",
    "workflow = StateGraph(AgentState)\n",
    "\n",
    "# Define the two nodes we will cycle between\n",
    "workflow.add_node(\"agent\", call_model)\n",
    "workflow.add_node(\"respond\", respond)\n",
    "workflow.add_node(\"tools\", ToolNode(tools))\n",
    "\n",
    "# Set the entrypoint as `agent`\n",
    "# This means that this node is the first one called\n",
    "workflow.set_entry_point(\"agent\")\n",
    "\n",
    "# We now add a conditional edge\n",
    "workflow.add_conditional_edges(\n",
    "    \"agent\",\n",
    "    should_continue,\n",
    "    {\n",
    "        \"continue\": \"tools\",\n",
    "        \"respond\": \"respond\",\n",
    "    },\n",
    ")\n",
    "\n",
    "workflow.add_edge(\"tools\", \"agent\")\n",
    "workflow.add_edge(\"respond\", END)\n",
    "graph = workflow.compile()\n",
    "\n",
    "display(\n",
    "    Image(\n",
    "        graph.get_graph().draw_mermaid_png()\n",
    "    )\n",
    ")"
   ]
  },
  {
   "cell_type": "code",
   "execution_count": 12,
   "metadata": {},
   "outputs": [
    {
     "data": {
      "text/plain": [
       "WeatherResponse(temperature=75.0, wind_directon='SE', wind_speed=4.82803)"
      ]
     },
     "execution_count": 12,
     "metadata": {},
     "output_type": "execute_result"
    }
   ],
   "source": [
    "answer = graph.invoke(input={\"messages\": [(\"human\", \"what's the weather in SF?\")]})[\n",
    "    \"final_response\"\n",
    "]\n",
    "answer"
   ]
  },
  {
   "cell_type": "markdown",
   "metadata": {},
   "source": [
    "### Option 2: Explicit post-process\n",
    "Let's now dive into how we would use a second LLM to force structured output.\n"
   ]
  },
  {
   "cell_type": "code",
   "execution_count": 21,
   "metadata": {},
   "outputs": [
    {
     "data": {
      "image/png": "[encoded data removed]",
      "text/plain": [
       "<IPython.core.display.Image object>"
      ]
     },
     "metadata": {},
     "output_type": "display_data"
    }
   ],
   "source": [
    "from langgraph.graph import StateGraph, END\n",
    "from langgraph.prebuilt import ToolNode\n",
    "from langchain_core.messages import HumanMessage\n",
    "\n",
    "\n",
    "# Define the tools the agent can use\n",
    "tools = [get_weather]\n",
    "\n",
    "# The difference with respect to previouse example is that here we do not\n",
    "# need to force the agent to use the tools. Therefore, no need to use `tool_choice=\"any\"`\n",
    "model_with_tools = model.bind_tools(tools)\n",
    "model_with_structured_output = model.with_structured_output(WeatherResponse)\n",
    "\n",
    "# Define the function that calls the model.\n",
    "# This represent the agent node\n",
    "def call_model(state: BaseState):\n",
    "    response = model_with_tools.invoke(state.messages)\n",
    "    # We return a list, because this will get added to the existing list\n",
    "    return {\"messages\": [response]}\n",
    "\n",
    "# Define the function that responds to the user\n",
    "def respond(state: BaseState):\n",
    "    # Here, the respond node call another LLM, this time with structured output\n",
    "    # in order to return the same format to the user every time.\n",
    "    # We could have sent the entire chat history, sending just the `state.messages[-2]` saves tokens.\n",
    "    # The reason we use `state.messages[-2]` is because:\n",
    "    # state.messages[-1] is the response from the first model, wheras state.messages[-2] is the last ToolMessage\n",
    "    response = model_with_structured_output.invoke(\n",
    "        [HumanMessage(content=state.messages[-2].content)]\n",
    "    )\n",
    "    # We return the final answer\n",
    "    return {\"final_response\": response}\n",
    "\n",
    "\n",
    "# Define the function that determines whether to continue or not\n",
    "def should_continue(state: BaseState):\n",
    "    messages = state.messages\n",
    "    last_message = messages[-1]\n",
    "    # If there is no function call, then we respond to the user\n",
    "    if not last_message.tool_calls:\n",
    "        return \"respond\"\n",
    "    # Otherwise if there is, we continue\n",
    "    else:\n",
    "        return \"continue\"\n",
    "\n",
    "\n",
    "# Define a new graph\n",
    "workflow = StateGraph(AgentState)\n",
    "\n",
    "# Define the two nodes we will cycle between\n",
    "workflow.add_node(\"agent\", call_model)\n",
    "workflow.add_node(\"respond\", respond)\n",
    "workflow.add_node(\"tools\", ToolNode(tools))\n",
    "\n",
    "# Set the entrypoint as `agent`\n",
    "# This means that this node is the first one called\n",
    "workflow.set_entry_point(\"agent\")\n",
    "\n",
    "# We now add a conditional edge\n",
    "workflow.add_conditional_edges(\n",
    "    \"agent\",\n",
    "    should_continue,\n",
    "    {\n",
    "        \"continue\": \"tools\",\n",
    "        \"respond\": \"respond\",\n",
    "    },\n",
    ")\n",
    "\n",
    "workflow.add_edge(\"tools\", \"agent\")\n",
    "workflow.add_edge(\"respond\", END)\n",
    "graph = workflow.compile()\n",
    "\n",
    "display(\n",
    "    Image(\n",
    "        graph.get_graph().draw_mermaid_png()\n",
    "    )\n",
    ")"
   ]
  },
  {
   "cell_type": "code",
   "execution_count": 22,
   "metadata": {},
   "outputs": [
    {
     "data": {
      "text/plain": [
       "WeatherResponse(temperature=75.0, wind_directon='SE', wind_speed=4.82803)"
      ]
     },
     "execution_count": 22,
     "metadata": {},
     "output_type": "execute_result"
    }
   ],
   "source": [
    "answer = graph.invoke(input={\"messages\": [(\"human\", \"what's the weather in SF?\")]})[\n",
    "    \"final_response\"\n",
    "]\n",
    "answer"
   ]
  },
  {
   "cell_type": "markdown",
   "metadata": {},
   "source": [
    "## Memory and Persistence\n",
    "LangGraph has a built-in persistence layer, implemented through `checkpointers`. When you compile graph with a checkpointer, the checkpointer saves a checkpoint of the graph state at every `super-step`. Those checkpoints are saved to a `thread`, which can be accessed after graph execution. Because threads allow access to graph's state after execution, several powerful capabilities including `human-in-the-loop`, `memory`, `time travel` are all possible. See this [how-to guide](https://langchain-ai.github.io/langgraph/how-tos/persistence/) for an end-to-end example on how to add and use checkpointers with your graph.\n",
    "\n",
    "![alt text](https://langchain-ai.github.io/langgraph/concepts/img/persistence/checkpoints.jpg)"
   ]
  },
  {
   "cell_type": "markdown",
   "metadata": {},
   "source": [
    "### Checkpoints\n",
    "Checkpointing allow LangGraph agents to persist their state within and across multiple interactions. Basically, a checkpoint is a snapshot of the graph state saved at each super-step and is represented by `StateSnapshot` object with the following key properties:\n",
    "- `config`: configuration associated with the checkpoint\n",
    "- `metadata`: metadata associated with the checkpoint\n",
    "- `values`: values of the state channels at this point in time\n",
    "- `next`: A tuple of `PregetTask` objects, containing information about the next task to be executed. If the step was   previously attempted, it include error information. Moreover, if a graph was interrupted dynamically from a node, tasks will contain additional information associated with the interruption.\n",
    "\n",
    "#### Threads\n",
    "A set of checkpoints can be associated with a thread, by means of the `config` parameter."
   ]
  },
  {
   "cell_type": "code",
   "execution_count": 23,
   "metadata": {},
   "outputs": [
    {
     "data": {
      "text/plain": [
       "{'messages': [HumanMessage(content=\"what's the weather in SF?\", additional_kwargs={}, response_metadata={}, id='5fd9af49-1ad8-4cb0-b69d-25202664432b'),\n",
       "  AIMessage(content='', additional_kwargs={'tool_calls': [{'id': 'call_NUKngmh88uerTS6WNm47ZRGS', 'function': {'arguments': '{\"city\":\"sf\"}', 'name': 'get_weather'}, 'type': 'function'}], 'refusal': None}, response_metadata={'token_usage': {'completion_tokens': 14, 'prompt_tokens': 58, 'total_tokens': 72, 'completion_tokens_details': {'accepted_prediction_tokens': 0, 'audio_tokens': 0, 'reasoning_tokens': 0, 'rejected_prediction_tokens': 0}, 'prompt_tokens_details': {'audio_tokens': 0, 'cached_tokens': 0}}, 'model_name': 'gpt-4o-2024-08-06', 'system_fingerprint': 'fp_9d50cd990b', 'finish_reason': 'tool_calls', 'logprobs': None}, id='run-667fbf27-e337-4527-b8b1-29aceaffe94a-0', tool_calls=[{'name': 'get_weather', 'args': {'city': 'sf'}, 'id': 'call_NUKngmh88uerTS6WNm47ZRGS', 'type': 'tool_call'}], usage_metadata={'input_tokens': 58, 'output_tokens': 14, 'total_tokens': 72, 'input_token_details': {'audio': 0, 'cache_read': 0}, 'output_token_details': {'audio': 0, 'reasoning': 0}}),\n",
       "  ToolMessage(content='It is 75 degrees and sunny in SF, with 3 mph winds in the South-East direction', name='get_weather', id='385b8d97-ea5c-44c1-94f2-49c42aa70642', tool_call_id='call_NUKngmh88uerTS6WNm47ZRGS'),\n",
       "  AIMessage(content='The weather in SF is currently 75 degrees and sunny, with winds blowing at 3 mph from the South-East.', additional_kwargs={'refusal': None}, response_metadata={'token_usage': {'completion_tokens': 25, 'prompt_tokens': 100, 'total_tokens': 125, 'completion_tokens_details': {'accepted_prediction_tokens': 0, 'audio_tokens': 0, 'reasoning_tokens': 0, 'rejected_prediction_tokens': 0}, 'prompt_tokens_details': {'audio_tokens': 0, 'cached_tokens': 0}}, 'model_name': 'gpt-4o-2024-08-06', 'system_fingerprint': 'fp_f785eb5f47', 'finish_reason': 'stop', 'logprobs': None}, id='run-d4757bee-25a3-41c0-a9aa-aa450c68046d-0', usage_metadata={'input_tokens': 100, 'output_tokens': 25, 'total_tokens': 125, 'input_token_details': {'audio': 0, 'cache_read': 0}, 'output_token_details': {'audio': 0, 'reasoning': 0}})],\n",
       " 'final_response': WeatherResponse(temperature=75.0, wind_directon='SE', wind_speed=4.82803)}"
      ]
     },
     "execution_count": 23,
     "metadata": {},
     "output_type": "execute_result"
    }
   ],
   "source": [
    "from langgraph.checkpoint.memory import MemorySaver\n",
    "# Configure the graph structure as before\n",
    "# Then just before the comple, we define our checkpointer along with the configuration parameter\n",
    "checkpointer = MemorySaver()\n",
    "\n",
    "# Compile the graph with the checkpointer\n",
    "graph = workflow.compile(checkpointer=checkpointer)\n",
    "\n",
    "# Define the configuration parameter\n",
    "config = {\"configurable\": {\"thread_id\": \"1\"}}\n",
    "\n",
    "# Invoke the graph with the configuration parameter\n",
    "graph.invoke(\n",
    "    input={\"messages\": [(\"human\", \"what's the weather in SF?\")]},\n",
    "    config=config\n",
    ")\n"
   ]
  },
  {
   "cell_type": "markdown",
   "metadata": {},
   "source": [
    "**Get the history**\n",
    "\n",
    "You can get the full history of the graph execution for a given thread by calling `graph.get_state_history(config)`. This will return a list of `StateSnapshot` objects associated with the thread ID provided in the config ordered from the most recent checkpoint to the oldest.\n"
   ]
  },
  {
   "cell_type": "code",
   "execution_count": 24,
   "metadata": {},
   "outputs": [
    {
     "name": "stdout",
     "output_type": "stream",
     "text": [
      "[StateSnapshot(values={'messages': [HumanMessage(content=\"what's the weather in SF?\", additional_kwargs={}, response_metadata={}, id='5fd9af49-1ad8-4cb0-b69d-25202664432b'), AIMessage(content='', additional_kwargs={'tool_calls': [{'id': 'call_NUKngmh88uerTS6WNm47ZRGS', 'function': {'arguments': '{\"city\":\"sf\"}', 'name': 'get_weather'}, 'type': 'function'}], 'refusal': None}, response_metadata={'token_usage': {'completion_tokens': 14, 'prompt_tokens': 58, 'total_tokens': 72, 'completion_tokens_details': {'accepted_prediction_tokens': 0, 'audio_tokens': 0, 'reasoning_tokens': 0, 'rejected_prediction_tokens': 0}, 'prompt_tokens_details': {'audio_tokens': 0, 'cached_tokens': 0}}, 'model_name': 'gpt-4o-2024-08-06', 'system_fingerprint': 'fp_9d50cd990b', 'finish_reason': 'tool_calls', 'logprobs': None}, id='run-667fbf27-e337-4527-b8b1-29aceaffe94a-0', tool_calls=[{'name': 'get_weather', 'args': {'city': 'sf'}, 'id': 'call_NUKngmh88uerTS6WNm47ZRGS', 'type': 'tool_call'}], usage_metadata={'input_tokens': 58, 'output_tokens': 14, 'total_tokens': 72, 'input_token_details': {'audio': 0, 'cache_read': 0}, 'output_token_details': {'audio': 0, 'reasoning': 0}}), ToolMessage(content='It is 75 degrees and sunny in SF, with 3 mph winds in the South-East direction', name='get_weather', id='385b8d97-ea5c-44c1-94f2-49c42aa70642', tool_call_id='call_NUKngmh88uerTS6WNm47ZRGS'), AIMessage(content='The weather in SF is currently 75 degrees and sunny, with winds blowing at 3 mph from the South-East.', additional_kwargs={'refusal': None}, response_metadata={'token_usage': {'completion_tokens': 25, 'prompt_tokens': 100, 'total_tokens': 125, 'completion_tokens_details': {'accepted_prediction_tokens': 0, 'audio_tokens': 0, 'reasoning_tokens': 0, 'rejected_prediction_tokens': 0}, 'prompt_tokens_details': {'audio_tokens': 0, 'cached_tokens': 0}}, 'model_name': 'gpt-4o-2024-08-06', 'system_fingerprint': 'fp_f785eb5f47', 'finish_reason': 'stop', 'logprobs': None}, id='run-d4757bee-25a3-41c0-a9aa-aa450c68046d-0', usage_metadata={'input_tokens': 100, 'output_tokens': 25, 'total_tokens': 125, 'input_token_details': {'audio': 0, 'cache_read': 0}, 'output_token_details': {'audio': 0, 'reasoning': 0}})], 'final_response': WeatherResponse(temperature=75.0, wind_directon='SE', wind_speed=4.82803)}, next=(), config={'configurable': {'thread_id': '1', 'checkpoint_ns': '', 'checkpoint_id': '1efb8611-3298-6cfe-8004-26f9d901ec71'}}, metadata={'source': 'loop', 'writes': {'respond': {'final_response': WeatherResponse(temperature=75.0, wind_directon='SE', wind_speed=4.82803)}}, 'thread_id': '1', 'step': 4, 'parents': {}}, created_at='2024-12-12T08:14:14.460305+00:00', parent_config={'configurable': {'thread_id': '1', 'checkpoint_ns': '', 'checkpoint_id': '1efb8611-2dd7-6fc6-8003-9596d4a39f84'}}, tasks=()), StateSnapshot(values={'messages': [HumanMessage(content=\"what's the weather in SF?\", additional_kwargs={}, response_metadata={}, id='5fd9af49-1ad8-4cb0-b69d-25202664432b'), AIMessage(content='', additional_kwargs={'tool_calls': [{'id': 'call_NUKngmh88uerTS6WNm47ZRGS', 'function': {'arguments': '{\"city\":\"sf\"}', 'name': 'get_weather'}, 'type': 'function'}], 'refusal': None}, response_metadata={'token_usage': {'completion_tokens': 14, 'prompt_tokens': 58, 'total_tokens': 72, 'completion_tokens_details': {'accepted_prediction_tokens': 0, 'audio_tokens': 0, 'reasoning_tokens': 0, 'rejected_prediction_tokens': 0}, 'prompt_tokens_details': {'audio_tokens': 0, 'cached_tokens': 0}}, 'model_name': 'gpt-4o-2024-08-06', 'system_fingerprint': 'fp_9d50cd990b', 'finish_reason': 'tool_calls', 'logprobs': None}, id='run-667fbf27-e337-4527-b8b1-29aceaffe94a-0', tool_calls=[{'name': 'get_weather', 'args': {'city': 'sf'}, 'id': 'call_NUKngmh88uerTS6WNm47ZRGS', 'type': 'tool_call'}], usage_metadata={'input_tokens': 58, 'output_tokens': 14, 'total_tokens': 72, 'input_token_details': {'audio': 0, 'cache_read': 0}, 'output_token_details': {'audio': 0, 'reasoning': 0}}), ToolMessage(content='It is 75 degrees and sunny in SF, with 3 mph winds in the South-East direction', name='get_weather', id='385b8d97-ea5c-44c1-94f2-49c42aa70642', tool_call_id='call_NUKngmh88uerTS6WNm47ZRGS'), AIMessage(content='The weather in SF is currently 75 degrees and sunny, with winds blowing at 3 mph from the South-East.', additional_kwargs={'refusal': None}, response_metadata={'token_usage': {'completion_tokens': 25, 'prompt_tokens': 100, 'total_tokens': 125, 'completion_tokens_details': {'accepted_prediction_tokens': 0, 'audio_tokens': 0, 'reasoning_tokens': 0, 'rejected_prediction_tokens': 0}, 'prompt_tokens_details': {'audio_tokens': 0, 'cached_tokens': 0}}, 'model_name': 'gpt-4o-2024-08-06', 'system_fingerprint': 'fp_f785eb5f47', 'finish_reason': 'stop', 'logprobs': None}, id='run-d4757bee-25a3-41c0-a9aa-aa450c68046d-0', usage_metadata={'input_tokens': 100, 'output_tokens': 25, 'total_tokens': 125, 'input_token_details': {'audio': 0, 'cache_read': 0}, 'output_token_details': {'audio': 0, 'reasoning': 0}})]}, next=('respond',), config={'configurable': {'thread_id': '1', 'checkpoint_ns': '', 'checkpoint_id': '1efb8611-2dd7-6fc6-8003-9596d4a39f84'}}, metadata={'source': 'loop', 'writes': {'agent': {'messages': [AIMessage(content='The weather in SF is currently 75 degrees and sunny, with winds blowing at 3 mph from the South-East.', additional_kwargs={'refusal': None}, response_metadata={'token_usage': {'completion_tokens': 25, 'prompt_tokens': 100, 'total_tokens': 125, 'completion_tokens_details': {'accepted_prediction_tokens': 0, 'audio_tokens': 0, 'reasoning_tokens': 0, 'rejected_prediction_tokens': 0}, 'prompt_tokens_details': {'audio_tokens': 0, 'cached_tokens': 0}}, 'model_name': 'gpt-4o-2024-08-06', 'system_fingerprint': 'fp_f785eb5f47', 'finish_reason': 'stop', 'logprobs': None}, id='run-d4757bee-25a3-41c0-a9aa-aa450c68046d-0', usage_metadata={'input_tokens': 100, 'output_tokens': 25, 'total_tokens': 125, 'input_token_details': {'audio': 0, 'cache_read': 0}, 'output_token_details': {'audio': 0, 'reasoning': 0}})]}}, 'thread_id': '1', 'step': 3, 'parents': {}}, created_at='2024-12-12T08:14:13.961899+00:00', parent_config={'configurable': {'thread_id': '1', 'checkpoint_ns': '', 'checkpoint_id': '1efb8611-28cf-6c0e-8002-a54c6b6dab92'}}, tasks=(PregelTask(id='3f190acc-f937-4801-20d6-d3ccdafc76cf', name='respond', path=('__pregel_pull', 'respond'), error=None, interrupts=(), state=None, result={'final_response': WeatherResponse(temperature=75.0, wind_directon='SE', wind_speed=4.82803)}),)), StateSnapshot(values={'messages': [HumanMessage(content=\"what's the weather in SF?\", additional_kwargs={}, response_metadata={}, id='5fd9af49-1ad8-4cb0-b69d-25202664432b'), AIMessage(content='', additional_kwargs={'tool_calls': [{'id': 'call_NUKngmh88uerTS6WNm47ZRGS', 'function': {'arguments': '{\"city\":\"sf\"}', 'name': 'get_weather'}, 'type': 'function'}], 'refusal': None}, response_metadata={'token_usage': {'completion_tokens': 14, 'prompt_tokens': 58, 'total_tokens': 72, 'completion_tokens_details': {'accepted_prediction_tokens': 0, 'audio_tokens': 0, 'reasoning_tokens': 0, 'rejected_prediction_tokens': 0}, 'prompt_tokens_details': {'audio_tokens': 0, 'cached_tokens': 0}}, 'model_name': 'gpt-4o-2024-08-06', 'system_fingerprint': 'fp_9d50cd990b', 'finish_reason': 'tool_calls', 'logprobs': None}, id='run-667fbf27-e337-4527-b8b1-29aceaffe94a-0', tool_calls=[{'name': 'get_weather', 'args': {'city': 'sf'}, 'id': 'call_NUKngmh88uerTS6WNm47ZRGS', 'type': 'tool_call'}], usage_metadata={'input_tokens': 58, 'output_tokens': 14, 'total_tokens': 72, 'input_token_details': {'audio': 0, 'cache_read': 0}, 'output_token_details': {'audio': 0, 'reasoning': 0}}), ToolMessage(content='It is 75 degrees and sunny in SF, with 3 mph winds in the South-East direction', name='get_weather', id='385b8d97-ea5c-44c1-94f2-49c42aa70642', tool_call_id='call_NUKngmh88uerTS6WNm47ZRGS')]}, next=('agent',), config={'configurable': {'thread_id': '1', 'checkpoint_ns': '', 'checkpoint_id': '1efb8611-28cf-6c0e-8002-a54c6b6dab92'}}, metadata={'source': 'loop', 'writes': {'tools': {'messages': [ToolMessage(content='It is 75 degrees and sunny in SF, with 3 mph winds in the South-East direction', name='get_weather', id='385b8d97-ea5c-44c1-94f2-49c42aa70642', tool_call_id='call_NUKngmh88uerTS6WNm47ZRGS')]}}, 'thread_id': '1', 'step': 2, 'parents': {}}, created_at='2024-12-12T08:14:13.434247+00:00', parent_config={'configurable': {'thread_id': '1', 'checkpoint_ns': '', 'checkpoint_id': '1efb8611-28cc-6022-8001-a5273013629b'}}, tasks=(PregelTask(id='45a2b6c3-b363-fadc-73a9-5e7997a1f64d', name='agent', path=('__pregel_pull', 'agent'), error=None, interrupts=(), state=None, result={'messages': [AIMessage(content='The weather in SF is currently 75 degrees and sunny, with winds blowing at 3 mph from the South-East.', additional_kwargs={'refusal': None}, response_metadata={'token_usage': {'completion_tokens': 25, 'prompt_tokens': 100, 'total_tokens': 125, 'completion_tokens_details': {'accepted_prediction_tokens': 0, 'audio_tokens': 0, 'reasoning_tokens': 0, 'rejected_prediction_tokens': 0}, 'prompt_tokens_details': {'audio_tokens': 0, 'cached_tokens': 0}}, 'model_name': 'gpt-4o-2024-08-06', 'system_fingerprint': 'fp_f785eb5f47', 'finish_reason': 'stop', 'logprobs': None}, id='run-d4757bee-25a3-41c0-a9aa-aa450c68046d-0', usage_metadata={'input_tokens': 100, 'output_tokens': 25, 'total_tokens': 125, 'input_token_details': {'audio': 0, 'cache_read': 0}, 'output_token_details': {'audio': 0, 'reasoning': 0}})]}),)), StateSnapshot(values={'messages': [HumanMessage(content=\"what's the weather in SF?\", additional_kwargs={}, response_metadata={}, id='5fd9af49-1ad8-4cb0-b69d-25202664432b'), AIMessage(content='', additional_kwargs={'tool_calls': [{'id': 'call_NUKngmh88uerTS6WNm47ZRGS', 'function': {'arguments': '{\"city\":\"sf\"}', 'name': 'get_weather'}, 'type': 'function'}], 'refusal': None}, response_metadata={'token_usage': {'completion_tokens': 14, 'prompt_tokens': 58, 'total_tokens': 72, 'completion_tokens_details': {'accepted_prediction_tokens': 0, 'audio_tokens': 0, 'reasoning_tokens': 0, 'rejected_prediction_tokens': 0}, 'prompt_tokens_details': {'audio_tokens': 0, 'cached_tokens': 0}}, 'model_name': 'gpt-4o-2024-08-06', 'system_fingerprint': 'fp_9d50cd990b', 'finish_reason': 'tool_calls', 'logprobs': None}, id='run-667fbf27-e337-4527-b8b1-29aceaffe94a-0', tool_calls=[{'name': 'get_weather', 'args': {'city': 'sf'}, 'id': 'call_NUKngmh88uerTS6WNm47ZRGS', 'type': 'tool_call'}], usage_metadata={'input_tokens': 58, 'output_tokens': 14, 'total_tokens': 72, 'input_token_details': {'audio': 0, 'cache_read': 0}, 'output_token_details': {'audio': 0, 'reasoning': 0}})]}, next=('tools',), config={'configurable': {'thread_id': '1', 'checkpoint_ns': '', 'checkpoint_id': '1efb8611-28cc-6022-8001-a5273013629b'}}, metadata={'source': 'loop', 'writes': {'agent': {'messages': [AIMessage(content='', additional_kwargs={'tool_calls': [{'id': 'call_NUKngmh88uerTS6WNm47ZRGS', 'function': {'arguments': '{\"city\":\"sf\"}', 'name': 'get_weather'}, 'type': 'function'}], 'refusal': None}, response_metadata={'token_usage': {'completion_tokens': 14, 'prompt_tokens': 58, 'total_tokens': 72, 'completion_tokens_details': {'accepted_prediction_tokens': 0, 'audio_tokens': 0, 'reasoning_tokens': 0, 'rejected_prediction_tokens': 0}, 'prompt_tokens_details': {'audio_tokens': 0, 'cached_tokens': 0}}, 'model_name': 'gpt-4o-2024-08-06', 'system_fingerprint': 'fp_9d50cd990b', 'finish_reason': 'tool_calls', 'logprobs': None}, id='run-667fbf27-e337-4527-b8b1-29aceaffe94a-0', tool_calls=[{'name': 'get_weather', 'args': {'city': 'sf'}, 'id': 'call_NUKngmh88uerTS6WNm47ZRGS', 'type': 'tool_call'}], usage_metadata={'input_tokens': 58, 'output_tokens': 14, 'total_tokens': 72, 'input_token_details': {'audio': 0, 'cache_read': 0}, 'output_token_details': {'audio': 0, 'reasoning': 0}})]}}, 'thread_id': '1', 'step': 1, 'parents': {}}, created_at='2024-12-12T08:14:13.432707+00:00', parent_config={'configurable': {'thread_id': '1', 'checkpoint_ns': '', 'checkpoint_id': '1efb8611-23a0-6332-8000-f565f1cb86d8'}}, tasks=(PregelTask(id='25bdda50-8c1b-7d94-312b-840ef148ef77', name='tools', path=('__pregel_pull', 'tools'), error=None, interrupts=(), state=None, result={'messages': [ToolMessage(content='It is 75 degrees and sunny in SF, with 3 mph winds in the South-East direction', name='get_weather', id='385b8d97-ea5c-44c1-94f2-49c42aa70642', tool_call_id='call_NUKngmh88uerTS6WNm47ZRGS')]}),)), StateSnapshot(values={'messages': [HumanMessage(content=\"what's the weather in SF?\", additional_kwargs={}, response_metadata={}, id='5fd9af49-1ad8-4cb0-b69d-25202664432b')]}, next=('agent',), config={'configurable': {'thread_id': '1', 'checkpoint_ns': '', 'checkpoint_id': '1efb8611-23a0-6332-8000-f565f1cb86d8'}}, metadata={'source': 'loop', 'writes': None, 'thread_id': '1', 'step': 0, 'parents': {}}, created_at='2024-12-12T08:14:12.890487+00:00', parent_config={'configurable': {'thread_id': '1', 'checkpoint_ns': '', 'checkpoint_id': '1efb8611-239e-6bd6-bfff-b11bc5b14ada'}}, tasks=(PregelTask(id='6404246e-987e-b9f6-4f05-a286ad390f25', name='agent', path=('__pregel_pull', 'agent'), error=None, interrupts=(), state=None, result={'messages': [AIMessage(content='', additional_kwargs={'tool_calls': [{'id': 'call_NUKngmh88uerTS6WNm47ZRGS', 'function': {'arguments': '{\"city\":\"sf\"}', 'name': 'get_weather'}, 'type': 'function'}], 'refusal': None}, response_metadata={'token_usage': {'completion_tokens': 14, 'prompt_tokens': 58, 'total_tokens': 72, 'completion_tokens_details': {'accepted_prediction_tokens': 0, 'audio_tokens': 0, 'reasoning_tokens': 0, 'rejected_prediction_tokens': 0}, 'prompt_tokens_details': {'audio_tokens': 0, 'cached_tokens': 0}}, 'model_name': 'gpt-4o-2024-08-06', 'system_fingerprint': 'fp_9d50cd990b', 'finish_reason': 'tool_calls', 'logprobs': None}, id='run-667fbf27-e337-4527-b8b1-29aceaffe94a-0', tool_calls=[{'name': 'get_weather', 'args': {'city': 'sf'}, 'id': 'call_NUKngmh88uerTS6WNm47ZRGS', 'type': 'tool_call'}], usage_metadata={'input_tokens': 58, 'output_tokens': 14, 'total_tokens': 72, 'input_token_details': {'audio': 0, 'cache_read': 0}, 'output_token_details': {'audio': 0, 'reasoning': 0}})]}),)), StateSnapshot(values={'messages': []}, next=('__start__',), config={'configurable': {'thread_id': '1', 'checkpoint_ns': '', 'checkpoint_id': '1efb8611-239e-6bd6-bfff-b11bc5b14ada'}}, metadata={'source': 'input', 'writes': {'__start__': {'messages': [['human', \"what's the weather in SF?\"]]}}, 'thread_id': '1', 'step': -1, 'parents': {}}, created_at='2024-12-12T08:14:12.889898+00:00', parent_config=None, tasks=(PregelTask(id='022bb8af-0a0f-93a3-9ca1-b6c221b07fa6', name='__start__', path=('__pregel_pull', '__start__'), error=None, interrupts=(), state=None, result={'messages': [['human', \"what's the weather in SF?\"]]}),))]\n"
     ]
    }
   ],
   "source": [
    "# To access the list of checkpoints in reverse order\n",
    "history = list(graph.get_state_history(config))\n",
    "print(history)\n"
   ]
  },
  {
   "cell_type": "markdown",
   "metadata": {},
   "source": [
    "**Get a specific state**\n",
    "\n",
    "You can also access directly the last state of the graph for a give thread using or a specific checkpoint."
   ]
  },
  {
   "cell_type": "code",
   "execution_count": 25,
   "metadata": {},
   "outputs": [
    {
     "data": {
      "text/plain": [
       "[{'messages': [HumanMessage(content=\"what's the weather in SF?\", additional_kwargs={}, response_metadata={}, id='5fd9af49-1ad8-4cb0-b69d-25202664432b'),\n",
       "   AIMessage(content='', additional_kwargs={'tool_calls': [{'id': 'call_NUKngmh88uerTS6WNm47ZRGS', 'function': {'arguments': '{\"city\":\"sf\"}', 'name': 'get_weather'}, 'type': 'function'}], 'refusal': None}, response_metadata={'token_usage': {'completion_tokens': 14, 'prompt_tokens': 58, 'total_tokens': 72, 'completion_tokens_details': {'accepted_prediction_tokens': 0, 'audio_tokens': 0, 'reasoning_tokens': 0, 'rejected_prediction_tokens': 0}, 'prompt_tokens_details': {'audio_tokens': 0, 'cached_tokens': 0}}, 'model_name': 'gpt-4o-2024-08-06', 'system_fingerprint': 'fp_9d50cd990b', 'finish_reason': 'tool_calls', 'logprobs': None}, id='run-667fbf27-e337-4527-b8b1-29aceaffe94a-0', tool_calls=[{'name': 'get_weather', 'args': {'city': 'sf'}, 'id': 'call_NUKngmh88uerTS6WNm47ZRGS', 'type': 'tool_call'}], usage_metadata={'input_tokens': 58, 'output_tokens': 14, 'total_tokens': 72, 'input_token_details': {'audio': 0, 'cache_read': 0}, 'output_token_details': {'audio': 0, 'reasoning': 0}}),\n",
       "   ToolMessage(content='It is 75 degrees and sunny in SF, with 3 mph winds in the South-East direction', name='get_weather', id='385b8d97-ea5c-44c1-94f2-49c42aa70642', tool_call_id='call_NUKngmh88uerTS6WNm47ZRGS'),\n",
       "   AIMessage(content='The weather in SF is currently 75 degrees and sunny, with winds blowing at 3 mph from the South-East.', additional_kwargs={'refusal': None}, response_metadata={'token_usage': {'completion_tokens': 25, 'prompt_tokens': 100, 'total_tokens': 125, 'completion_tokens_details': {'accepted_prediction_tokens': 0, 'audio_tokens': 0, 'reasoning_tokens': 0, 'rejected_prediction_tokens': 0}, 'prompt_tokens_details': {'audio_tokens': 0, 'cached_tokens': 0}}, 'model_name': 'gpt-4o-2024-08-06', 'system_fingerprint': 'fp_f785eb5f47', 'finish_reason': 'stop', 'logprobs': None}, id='run-d4757bee-25a3-41c0-a9aa-aa450c68046d-0', usage_metadata={'input_tokens': 100, 'output_tokens': 25, 'total_tokens': 125, 'input_token_details': {'audio': 0, 'cache_read': 0}, 'output_token_details': {'audio': 0, 'reasoning': 0}})],\n",
       "  'final_response': WeatherResponse(temperature=75.0, wind_directon='SE', wind_speed=4.82803)},\n",
       " (),\n",
       " {'configurable': {'thread_id': '1',\n",
       "   'checkpoint_ns': '',\n",
       "   'checkpoint_id': '1efb8611-3298-6cfe-8004-26f9d901ec71'}},\n",
       " {'source': 'loop',\n",
       "  'writes': {'respond': {'final_response': WeatherResponse(temperature=75.0, wind_directon='SE', wind_speed=4.82803)}},\n",
       "  'thread_id': '1',\n",
       "  'step': 4,\n",
       "  'parents': {}},\n",
       " '2024-12-12T08:14:14.460305+00:00',\n",
       " {'configurable': {'thread_id': '1',\n",
       "   'checkpoint_ns': '',\n",
       "   'checkpoint_id': '1efb8611-2dd7-6fc6-8003-9596d4a39f84'}},\n",
       " ()]"
      ]
     },
     "execution_count": 25,
     "metadata": {},
     "output_type": "execute_result"
    }
   ],
   "source": [
    "# You can get the last state in memory\n",
    "config = {\"configurable\": {\"thread_id\": \"1\"}}\n",
    "list(graph.get_state(config))"
   ]
  },
  {
   "cell_type": "code",
   "execution_count": null,
   "metadata": {},
   "outputs": [
    {
     "data": {
      "text/plain": [
       "[{},\n",
       " (),\n",
       " {'configurable': {'thread_id': '1',\n",
       "   'checkpoint_id': '1efb8611-239e-6bd6-bfff-b11bc5b14ada'}},\n",
       " None,\n",
       " None,\n",
       " None,\n",
       " ()]"
      ]
     },
     "execution_count": 77,
     "metadata": {},
     "output_type": "execute_result"
    }
   ],
   "source": [
    "# Or, you can access the state of a specific checkpoint. For instance, considering the first checkpoint in time\n",
    "first_checkpoint_config = {\"configurable\": {\"thread_id\": \"1\", \"checkpoint_id\": history[-2].config['configurable']['checkpoint_id']}}\n",
    "list(graph.get_state(first_checkpoint_config))"
   ]
  },
  {
   "cell_type": "markdown",
   "metadata": {},
   "source": [
    "### Replay \n",
    "It's also possible to play-back a prior graph execution. By `invoking` a graph with a `thread_id` and a `checkpoint_id`, we can re-play the graph from that specific checkpoint.\n",
    "\n",
    "**Note**:\n",
    "\n",
    " LangGraph knows whether a particular checkpoint has been executed previously. If it has, LangGraph simply re-plays that particular step in the graph and does not re-execute the step. See this how to guide on [time-travel](https://langchain-ai.github.io/langgraph/how-tos/human_in_the_loop/time-travel/) to learn more about replaying."
   ]
  },
  {
   "cell_type": "code",
   "execution_count": 27,
   "metadata": {},
   "outputs": [
    {
     "data": {
      "text/plain": [
       "{'messages': [HumanMessage(content=\"what's the weather in SF?\", additional_kwargs={}, response_metadata={}, id='5fd9af49-1ad8-4cb0-b69d-25202664432b'),\n",
       "  AIMessage(content='', additional_kwargs={'tool_calls': [{'id': 'call_NUKngmh88uerTS6WNm47ZRGS', 'function': {'arguments': '{\"city\":\"sf\"}', 'name': 'get_weather'}, 'type': 'function'}], 'refusal': None}, response_metadata={'token_usage': {'completion_tokens': 14, 'prompt_tokens': 58, 'total_tokens': 72, 'completion_tokens_details': {'accepted_prediction_tokens': 0, 'audio_tokens': 0, 'reasoning_tokens': 0, 'rejected_prediction_tokens': 0}, 'prompt_tokens_details': {'audio_tokens': 0, 'cached_tokens': 0}}, 'model_name': 'gpt-4o-2024-08-06', 'system_fingerprint': 'fp_9d50cd990b', 'finish_reason': 'tool_calls', 'logprobs': None}, id='run-667fbf27-e337-4527-b8b1-29aceaffe94a-0', tool_calls=[{'name': 'get_weather', 'args': {'city': 'sf'}, 'id': 'call_NUKngmh88uerTS6WNm47ZRGS', 'type': 'tool_call'}], usage_metadata={'input_tokens': 58, 'output_tokens': 14, 'total_tokens': 72, 'input_token_details': {'audio': 0, 'cache_read': 0}, 'output_token_details': {'audio': 0, 'reasoning': 0}}),\n",
       "  ToolMessage(content='It is 75 degrees and sunny in SF, with 3 mph winds in the South-East direction', name='get_weather', id='385b8d97-ea5c-44c1-94f2-49c42aa70642', tool_call_id='call_NUKngmh88uerTS6WNm47ZRGS'),\n",
       "  AIMessage(content='The weather in SF is currently 75 degrees and sunny, with winds blowing at 3 mph from the South-East.', additional_kwargs={'refusal': None}, response_metadata={'token_usage': {'completion_tokens': 25, 'prompt_tokens': 100, 'total_tokens': 125, 'completion_tokens_details': {'accepted_prediction_tokens': 0, 'audio_tokens': 0, 'reasoning_tokens': 0, 'rejected_prediction_tokens': 0}, 'prompt_tokens_details': {'audio_tokens': 0, 'cached_tokens': 0}}, 'model_name': 'gpt-4o-2024-08-06', 'system_fingerprint': 'fp_f785eb5f47', 'finish_reason': 'stop', 'logprobs': None}, id='run-d4757bee-25a3-41c0-a9aa-aa450c68046d-0', usage_metadata={'input_tokens': 100, 'output_tokens': 25, 'total_tokens': 125, 'input_token_details': {'audio': 0, 'cache_read': 0}, 'output_token_details': {'audio': 0, 'reasoning': 0}})],\n",
       " 'final_response': WeatherResponse(temperature=75.0, wind_directon='SE', wind_speed=4.82803)}"
      ]
     },
     "execution_count": 27,
     "metadata": {},
     "output_type": "execute_result"
    }
   ],
   "source": [
    "last_checkpoint_config = {\"configurable\": {\"thread_id\": \"1\", \"checkpoint_id\": history[0].config['configurable']['checkpoint_id']}}\n",
    "\n",
    "# The input is explicitly set to None in order to re-play the specific checkpoint\n",
    "graph.invoke(None, config=last_checkpoint_config)"
   ]
  },
  {
   "cell_type": "markdown",
   "metadata": {},
   "source": [
    "### Update the state\n",
    "Beside re-playing the graph, it is also possible to edit the graph state at a specific checkpoint. This is useful to correct errors or to include additional information provided by the user (`human-in-the-loop`). This can be done with the\n",
    "`graph.update_state` method that takes three parameters:\n",
    "- `config`: the config should contain the `thread_id` specifying which thread to update. If only the thread_id is passed, the current state (equivalent to the last checkpoint) is forked. Optionally, if also the `checkpoint_id` field is provided, then the execution is forked from that specific checkpoint.\n",
    "- `values`: the values that will be used to update the state, according to the schema of the graph. The updated is performed as any other state update (like the values would have been returned by a node), meaning that the reducers are applied to the values. Let's see an example\n",
    "    ``` python\n",
    "    from typing import Annotated\n",
    "    from typing_extensions import TypedDict\n",
    "    from operator import add\n",
    "\n",
    "    class State(TypedDict):\n",
    "        foo: int\n",
    "        bar: Annotated[list[str], add]\n",
    "    ```\n",
    "    Assuming that the current state is:\n",
    "    ``` python \n",
    "    {\"foo\": 1, \"bar\": [\"a\"]}\n",
    "    ```\n",
    "    If you update the state as below:\n",
    "    ``` python\n",
    "    graph.update_state(config, {\"foo\": 2, \"bar\": [\"b\"]})\n",
    "    ```\n",
    "    The new state will be:\n",
    "    ``` python\n",
    "    {\"foo\": 3, \"bar\": [\"a\", \"b\"]}\n",
    "    ```\n",
    "    The `foo` key (channel) is completely changed (because there is no reducer specified for that channel, so update_state overwrites it). However, there is a reducer specified for the `bar` key, and so it appends \"b\" to the state of bar.\n",
    "- `as_node`: optionally, you can provide the `as_node` parameter to apply the update as it would have come from a specific node. If not provided, it will be set to the last node that updated the state, if not ambiguous. This is useful to control which node executes next. See this how to guide on [time-travel](https://langchain-ai.github.io/langgraph/how-tos/human_in_the_loop/time-travel/) to learn more about forking state."
   ]
  },
  {
   "cell_type": "markdown",
   "metadata": {},
   "source": [
    "## Human-in-the-Loop\n",
    "Human-in-the-loop enhances agent capabilities through several common user interaction patterns such as:\n",
    "1. **Approval**: The agent ask the user to approve a decision before proceeding.\n",
    "2. **Editing**: The agent ask the user to approve or edit the output before proceeding.\n",
    "3. **Input**: The agent ask the user for additional input before proceeding.\n",
    "\n",
    "All of these interaction patterns are enabled by the persistence layer, which allow to stop the execution and update the state of the graph at each step. This enables a human to review/edit the current state and then resume the execution.\n"
   ]
  },
  {
   "cell_type": "markdown",
   "metadata": {},
   "source": [
    "### Breakpoints\n",
    "Breakpoints are a way to stop the execution of the graph at a specific node. This is useful for debugging, or for human-in-the-loop workflows. When a breakpoint is reached, the graph execution is paused and the state is saved to the checkpoint. The user can then inspect the state, make changes, and resume the execution.\n",
    "\n",
    "You **MUST** use a checkpointer when using breakpoints. This is because your graph needs to be able to resume execution.\n"
   ]
  },
  {
   "cell_type": "code",
   "execution_count": 41,
   "metadata": {},
   "outputs": [
    {
     "data": {
      "image/png": "[encoded data removed]",
      "text/plain": [
       "<IPython.core.display.Image object>"
      ]
     },
     "metadata": {},
     "output_type": "display_data"
    }
   ],
   "source": [
    "# We can simply use the BaseModel we defined earlier as a tool for the structured output\n",
    "tools = [get_weather, WeatherResponse]\n",
    "\n",
    "# Force the model to use tools by passing tool_choice=\"any\"\n",
    "model_with_response_tool = model.bind_tools(tools, tool_choice=\"any\")\n",
    "\n",
    "\n",
    "# Define the function that calls the model.\n",
    "# This represent the agent node\n",
    "def call_model(state: BaseState):\n",
    "    response = model_with_response_tool.invoke(state.messages)\n",
    "    # We return a list, because this will get added to the existing list\n",
    "    return {\"messages\": [response]}\n",
    "\n",
    "\n",
    "# Define the function that responds to the user\n",
    "# This perform the actual parsing of the response, taking the parameters to initialize\n",
    "# the base model from the arguments of the last tool call\n",
    "def respond(state: BaseState):\n",
    "    # Construct the final answer from the arguments of the last tool call\n",
    "    response = WeatherResponse(**state.messages[-1].tool_calls[0][\"args\"])\n",
    "    # We return the final answer\n",
    "    return {\"final_response\": response}\n",
    "\n",
    "\n",
    "# Define the function that determins the conditional logic of the agent.\n",
    "def should_continue(state: BaseState):\n",
    "    messages = state.messages\n",
    "    last_message = messages[-1]\n",
    "    # If there is only one tool call and it is the response tool call we respond to the user\n",
    "    if (\n",
    "        len(last_message.tool_calls) == 1\n",
    "        and last_message.tool_calls[0][\"name\"] == \"WeatherResponse\"\n",
    "    ):\n",
    "        return \"respond\"\n",
    "    # Otherwise we will use the tool node again\n",
    "    else:\n",
    "        return \"continue\"\n",
    "\n",
    "\n",
    "# Define a new graph\n",
    "workflow = StateGraph(AgentState)\n",
    "\n",
    "# Define the two nodes we will cycle between\n",
    "workflow.add_node(\"agent\", call_model)\n",
    "workflow.add_node(\"respond\", respond)\n",
    "workflow.add_node(\"tools\", ToolNode(tools))\n",
    "\n",
    "# Set the entrypoint as `agent`\n",
    "# This means that this node is the first one called\n",
    "workflow.set_entry_point(\"agent\")\n",
    "\n",
    "# We now add a conditional edge\n",
    "workflow.add_conditional_edges(\n",
    "    \"agent\",\n",
    "    should_continue,\n",
    "    {\n",
    "        \"continue\": \"tools\",\n",
    "        \"respond\": \"respond\",\n",
    "    },\n",
    ")\n",
    "\n",
    "workflow.add_edge(\"tools\", \"agent\")\n",
    "workflow.add_edge(\"respond\", END)\n",
    "\n",
    "\n",
    "# Compile the graph with the checkpointer\n",
    "checkpointer = MemorySaver()\n",
    "graph = workflow.compile(checkpointer=checkpointer, interrupt_before=['respond'])\n",
    "display(\n",
    "    Image(\n",
    "        graph.get_graph().draw_mermaid_png()\n",
    "    )\n",
    ")\n",
    "\n",
    "# Define the configuration parameter\n"
   ]
  },
  {
   "cell_type": "code",
   "execution_count": 42,
   "metadata": {},
   "outputs": [
    {
     "name": "stdout",
     "output_type": "stream",
     "text": [
      "{'messages': [HumanMessage(content=\"what's the weather in sf?\", additional_kwargs={}, response_metadata={}, id='9e0a9764-e73a-43f1-99b5-11ade3ac88a6')]}\n",
      "{'messages': [HumanMessage(content=\"what's the weather in sf?\", additional_kwargs={}, response_metadata={}, id='9e0a9764-e73a-43f1-99b5-11ade3ac88a6'), AIMessage(content='', additional_kwargs={'tool_calls': [{'id': 'call_6HXCCkflNVBidmlZ7euD9QNH', 'function': {'arguments': '{\"city\":\"sf\"}', 'name': 'get_weather'}, 'type': 'function'}], 'refusal': None}, response_metadata={'token_usage': {'completion_tokens': 14, 'prompt_tokens': 115, 'total_tokens': 129, 'completion_tokens_details': {'accepted_prediction_tokens': 0, 'audio_tokens': 0, 'reasoning_tokens': 0, 'rejected_prediction_tokens': 0}, 'prompt_tokens_details': {'audio_tokens': 0, 'cached_tokens': 0}}, 'model_name': 'gpt-4o-2024-08-06', 'system_fingerprint': 'fp_cc5cf1c6e3', 'finish_reason': 'tool_calls', 'logprobs': None}, id='run-8e3b62c6-78f7-490d-b6de-d7e1a826c198-0', tool_calls=[{'name': 'get_weather', 'args': {'city': 'sf'}, 'id': 'call_6HXCCkflNVBidmlZ7euD9QNH', 'type': 'tool_call'}], usage_metadata={'input_tokens': 115, 'output_tokens': 14, 'total_tokens': 129, 'input_token_details': {'audio': 0, 'cache_read': 0}, 'output_token_details': {'audio': 0, 'reasoning': 0}})]}\n",
      "{'messages': [HumanMessage(content=\"what's the weather in sf?\", additional_kwargs={}, response_metadata={}, id='9e0a9764-e73a-43f1-99b5-11ade3ac88a6'), AIMessage(content='', additional_kwargs={'tool_calls': [{'id': 'call_6HXCCkflNVBidmlZ7euD9QNH', 'function': {'arguments': '{\"city\":\"sf\"}', 'name': 'get_weather'}, 'type': 'function'}], 'refusal': None}, response_metadata={'token_usage': {'completion_tokens': 14, 'prompt_tokens': 115, 'total_tokens': 129, 'completion_tokens_details': {'accepted_prediction_tokens': 0, 'audio_tokens': 0, 'reasoning_tokens': 0, 'rejected_prediction_tokens': 0}, 'prompt_tokens_details': {'audio_tokens': 0, 'cached_tokens': 0}}, 'model_name': 'gpt-4o-2024-08-06', 'system_fingerprint': 'fp_cc5cf1c6e3', 'finish_reason': 'tool_calls', 'logprobs': None}, id='run-8e3b62c6-78f7-490d-b6de-d7e1a826c198-0', tool_calls=[{'name': 'get_weather', 'args': {'city': 'sf'}, 'id': 'call_6HXCCkflNVBidmlZ7euD9QNH', 'type': 'tool_call'}], usage_metadata={'input_tokens': 115, 'output_tokens': 14, 'total_tokens': 129, 'input_token_details': {'audio': 0, 'cache_read': 0}, 'output_token_details': {'audio': 0, 'reasoning': 0}}), ToolMessage(content='It is 75 degrees and sunny in SF, with 3 mph winds in the South-East direction', name='get_weather', id='5b031f8f-5eab-4d85-954c-259c31598ab7', tool_call_id='call_6HXCCkflNVBidmlZ7euD9QNH')]}\n",
      "{'messages': [HumanMessage(content=\"what's the weather in sf?\", additional_kwargs={}, response_metadata={}, id='9e0a9764-e73a-43f1-99b5-11ade3ac88a6'), AIMessage(content='', additional_kwargs={'tool_calls': [{'id': 'call_6HXCCkflNVBidmlZ7euD9QNH', 'function': {'arguments': '{\"city\":\"sf\"}', 'name': 'get_weather'}, 'type': 'function'}], 'refusal': None}, response_metadata={'token_usage': {'completion_tokens': 14, 'prompt_tokens': 115, 'total_tokens': 129, 'completion_tokens_details': {'accepted_prediction_tokens': 0, 'audio_tokens': 0, 'reasoning_tokens': 0, 'rejected_prediction_tokens': 0}, 'prompt_tokens_details': {'audio_tokens': 0, 'cached_tokens': 0}}, 'model_name': 'gpt-4o-2024-08-06', 'system_fingerprint': 'fp_cc5cf1c6e3', 'finish_reason': 'tool_calls', 'logprobs': None}, id='run-8e3b62c6-78f7-490d-b6de-d7e1a826c198-0', tool_calls=[{'name': 'get_weather', 'args': {'city': 'sf'}, 'id': 'call_6HXCCkflNVBidmlZ7euD9QNH', 'type': 'tool_call'}], usage_metadata={'input_tokens': 115, 'output_tokens': 14, 'total_tokens': 129, 'input_token_details': {'audio': 0, 'cache_read': 0}, 'output_token_details': {'audio': 0, 'reasoning': 0}}), ToolMessage(content='It is 75 degrees and sunny in SF, with 3 mph winds in the South-East direction', name='get_weather', id='5b031f8f-5eab-4d85-954c-259c31598ab7', tool_call_id='call_6HXCCkflNVBidmlZ7euD9QNH'), AIMessage(content='', additional_kwargs={'tool_calls': [{'id': 'call_VW0BqfwnwHYgTivbJwZMSAt5', 'function': {'arguments': '{\"temperature\":75,\"wind_directon\":\"SE\",\"wind_speed\":4.82803}', 'name': 'WeatherResponse'}, 'type': 'function'}], 'refusal': None}, response_metadata={'token_usage': {'completion_tokens': 29, 'prompt_tokens': 157, 'total_tokens': 186, 'completion_tokens_details': {'accepted_prediction_tokens': 0, 'audio_tokens': 0, 'reasoning_tokens': 0, 'rejected_prediction_tokens': 0}, 'prompt_tokens_details': {'audio_tokens': 0, 'cached_tokens': 0}}, 'model_name': 'gpt-4o-2024-08-06', 'system_fingerprint': 'fp_cc5cf1c6e3', 'finish_reason': 'tool_calls', 'logprobs': None}, id='run-2f3781d7-7514-4aa7-87e6-387f0683f4ca-0', tool_calls=[{'name': 'WeatherResponse', 'args': {'temperature': 75, 'wind_directon': 'SE', 'wind_speed': 4.82803}, 'id': 'call_VW0BqfwnwHYgTivbJwZMSAt5', 'type': 'tool_call'}], usage_metadata={'input_tokens': 157, 'output_tokens': 29, 'total_tokens': 186, 'input_token_details': {'audio': 0, 'cache_read': 0}, 'output_token_details': {'audio': 0, 'reasoning': 0}})]}\n",
      "--- Static Breakpoint ---\n",
      "Operation cancelled by user.\n"
     ]
    }
   ],
   "source": [
    "config = {\"configurable\": {\"thread_id\": \"1\"}}\n",
    "\n",
    "# Invoke the graph with the configuration parameter\n",
    "inputs={\"messages\": [(\"human\", \"what's the weather in sf?\")]}\n",
    "\n",
    "# Stream the graph execution\n",
    "for event in graph.stream(inputs, config, stream_mode=\"values\"):\n",
    "    print(event)\n",
    "\n",
    "# Perform some action that requires human in the loop\n",
    "print(\"--- Static Breakpoint ---\")\n",
    "user_approval = input(\"Do you want to parse the output? (yes/no): \")\n",
    "\n",
    "# Continue the graph execution from the current checkpoint if the user approves\n",
    "if user_approval.lower() == \"yes\":\n",
    "    for event in graph.stream(None, config, stream_mode=\"values\"):\n",
    "        event['messages'][-1].pretty_print()\n",
    "else:\n",
    "    print(\"Operation cancelled by user.\")"
   ]
  },
  {
   "cell_type": "markdown",
   "metadata": {},
   "source": [
    "### Dynamic Breakpoints\n",
    "Alternatively, the developer can define some condition that must be met for a breakpoint to be triggered. To this end, we can raise a `NodeInterrupt` exception when a particular condition is met. \n",
    "\n",
    "\n"
   ]
  },
  {
   "cell_type": "code",
   "execution_count": 218,
   "metadata": {},
   "outputs": [
    {
     "data": {
      "image/png": "[encoded data removed]",
      "text/plain": [
       "<IPython.core.display.Image object>"
      ]
     },
     "metadata": {},
     "output_type": "display_data"
    },
    {
     "name": "stdout",
     "output_type": "stream",
     "text": [
      "================================\u001b[1m Human Message \u001b[0m=================================\n",
      "\n",
      "what's the weather in sf?\n",
      "==================================\u001b[1m Ai Message \u001b[0m==================================\n",
      "Tool Calls:\n",
      "  get_weather (call_6el2sdPKDrr8OF3sutl1EiUM)\n",
      " Call ID: call_6el2sdPKDrr8OF3sutl1EiUM\n",
      "  Args:\n",
      "    city: sf\n",
      "=================================\u001b[1m Tool Message \u001b[0m=================================\n",
      "Name: get_weather\n",
      "\n",
      "It is 75 degrees and sunny in SF, with 3 mph winds in the South-East direction\n",
      "==================================\u001b[1m Ai Message \u001b[0m==================================\n",
      "Tool Calls:\n",
      "  WeatherResponse (call_Irfum20YQ5r7y8dlZVr6u2h2)\n",
      " Call ID: call_Irfum20YQ5r7y8dlZVr6u2h2\n",
      "  Args:\n",
      "    temperature: 75\n",
      "    wind_directon: SE\n",
      "    wind_speed: 4.82803\n",
      "--- Dynamic Breakpoint Interruption ---\n",
      "\n",
      " ---------------------------------- \n",
      "\n",
      "==================================\u001b[1m Ai Message \u001b[0m==================================\n",
      "Tool Calls:\n",
      "  WeatherResponse (call_Irfum20YQ5r7y8dlZVr6u2h2)\n",
      " Call ID: call_Irfum20YQ5r7y8dlZVr6u2h2\n",
      "  Args:\n",
      "    temperature: 75\n",
      "    wind_directon: SE\n",
      "    wind_speed: 4.82803\n",
      "--- Dynamic Breakpoint Interruption ---\n"
     ]
    }
   ],
   "source": [
    "from langgraph.errors import NodeInterrupt\n",
    "from langgraph.graph import StateGraph, END\n",
    "from langgraph.prebuilt import ToolNode\n",
    "\n",
    "# We can simply use the BaseModel we defined earlier as a tool for the structured output\n",
    "tools = [get_weather, WeatherResponse]\n",
    "\n",
    "# Force the model to use tools by passing tool_choice=\"any\"\n",
    "model_with_response_tool = model.bind_tools(tools, tool_choice=\"any\")\n",
    "\n",
    "\n",
    "# Define the function that calls the model.\n",
    "# This represent the agent node\n",
    "def call_model(state: BaseState):\n",
    "    response = model_with_response_tool.invoke(state.messages)\n",
    "    # We return a list, because this will get added to the existing list\n",
    "    return {\"messages\": [response]}\n",
    "\n",
    "\n",
    "# Define the function that responds to the user\n",
    "# This perform the actual parsing of the response, taking the parameters to initialize\n",
    "# the base model from the arguments of the last tool call\n",
    "def respond(state: BaseState):\n",
    "    # Construct the final answer from the arguments of the last tool call\n",
    "    response = WeatherResponse(**state.messages[-1].tool_calls[0][\"args\"])\n",
    "    if response.temperature == 75:\n",
    "        print(\"--- Dynamic Breakpoint Interruption ---\")\n",
    "        raise NodeInterrupt(\"The temperature is 75 degrees, do you want to proceed? (yes/no)\")\n",
    "    # We return the final answer\n",
    "    return {\"final_response\": response}\n",
    "\n",
    "\n",
    "# Define the function that determins the conditional logic of the agent.\n",
    "def should_continue(state: BaseState):\n",
    "    messages = state.messages\n",
    "    last_message = messages[-1]\n",
    "    # If there is only one tool call and it is the response tool call we respond to the user\n",
    "    if (\n",
    "        len(last_message.tool_calls) == 1\n",
    "        and last_message.tool_calls[0][\"name\"] == \"WeatherResponse\"\n",
    "    ):\n",
    "        return \"respond\"\n",
    "    # Otherwise we will use the tool node again\n",
    "    else:\n",
    "        return \"continue\"\n",
    "\n",
    "\n",
    "# Define a new graph\n",
    "workflow = StateGraph(AgentState)\n",
    "\n",
    "# Define the two nodes we will cycle between\n",
    "workflow.add_node(\"agent\", call_model)\n",
    "workflow.add_node(\"respond\", respond)\n",
    "workflow.add_node(\"tools\", ToolNode(tools))\n",
    "\n",
    "# Set the entrypoint as `agent`\n",
    "# This means that this node is the first one called\n",
    "workflow.set_entry_point(\"agent\")\n",
    "\n",
    "# We now add a conditional edge\n",
    "workflow.add_conditional_edges(\n",
    "    \"agent\",\n",
    "    should_continue,\n",
    "    {\n",
    "        \"continue\": \"tools\",\n",
    "        \"respond\": \"respond\",\n",
    "    },\n",
    ")\n",
    "\n",
    "workflow.add_edge(\"tools\", \"agent\")\n",
    "workflow.add_edge(\"respond\", END)\n",
    "\n",
    "\n",
    "# Compile the graph with the checkpointer\n",
    "checkpointer = MemorySaver()\n",
    "graph = workflow.compile(checkpointer=checkpointer)\n",
    "display(\n",
    "    Image(\n",
    "        graph.get_graph().draw_mermaid_png()\n",
    "    )\n",
    ")\n",
    "\n",
    "# Define the configuration parameter\n",
    "config = {\"configurable\": {\"thread_id\": \"1\"}}\n",
    "\n",
    "# Invoke the graph with the configuration parameter\n",
    "inputs={\"messages\": [(\"human\", \"what's the weather in sf?\")]}\n",
    "\n",
    "for event in graph.stream(inputs, config, stream_mode=\"values\"):\n",
    "    event['messages'][-1].pretty_print()\n",
    "\n",
    "print(\"\\n ---------------------------------- \\n\")\n",
    "# Continue the graph execution from the current checkpoint if the user approves\n",
    "for event in graph.stream(None, config, stream_mode=\"values\"):\n",
    "    event['messages'][-1].pretty_print()\n",
    "\n",
    "# Save the snapshot checkpoint\n",
    "history = list(graph.get_state_history(config))\n",
    "rollback_config = history[0].config"
   ]
  },
  {
   "cell_type": "markdown",
   "metadata": {},
   "source": [
    "What we can see now is that the dynamic interruption is triggered again, this is because the node will be runned again from the same state, resulting in the same condition to be met. To avoid this we have basically two options:\n",
    "- `State update`: alternatively, we can update the state in order to avoid the condition to be met again."
   ]
  },
  {
   "cell_type": "code",
   "execution_count": 219,
   "metadata": {},
   "outputs": [
    {
     "name": "stdout",
     "output_type": "stream",
     "text": [
      "==================================\u001b[1m Ai Message \u001b[0m==================================\n",
      "Tool Calls:\n",
      "  WeatherResponse (call_Irfum20YQ5r7y8dlZVr6u2h2)\n",
      " Call ID: call_Irfum20YQ5r7y8dlZVr6u2h2\n",
      "  Args:\n",
      "    temperature: 76\n",
      "    wind_directon: SE\n",
      "    wind_speed: 4.82803\n",
      "==================================\u001b[1m Ai Message \u001b[0m==================================\n",
      "Tool Calls:\n",
      "  WeatherResponse (call_Irfum20YQ5r7y8dlZVr6u2h2)\n",
      " Call ID: call_Irfum20YQ5r7y8dlZVr6u2h2\n",
      "  Args:\n",
      "    temperature: 76\n",
      "    wind_directon: SE\n",
      "    wind_speed: 4.82803\n"
     ]
    }
   ],
   "source": [
    "message = graph.get_state(rollback_config).values['messages'][-1]\n",
    "response_param = message.tool_calls[0][\"args\"]\n",
    "response_param['temperature'] = 76\n",
    "\n",
    "graph.update_state(config=rollback_config, values={\"messages\": [message]})\n",
    "for event in graph.stream(None, config, stream_mode=\"values\"):\n",
    "    event['messages'][-1].pretty_print()\n"
   ]
  },
  {
   "cell_type": "markdown",
   "metadata": {},
   "source": [
    "- `Skip the node`: we can skip the node that perfor the check by adding the `as_node` parameter to the `update_state` method."
   ]
  },
  {
   "cell_type": "code",
   "execution_count": 221,
   "metadata": {},
   "outputs": [
    {
     "name": "stdout",
     "output_type": "stream",
     "text": [
      "==================================\u001b[1m Ai Message \u001b[0m==================================\n",
      "Tool Calls:\n",
      "  WeatherResponse (call_Irfum20YQ5r7y8dlZVr6u2h2)\n",
      " Call ID: call_Irfum20YQ5r7y8dlZVr6u2h2\n",
      "  Args:\n",
      "    temperature: 75\n",
      "    wind_directon: SE\n",
      "    wind_speed: 4.82803\n",
      "--- Dynamic Breakpoint Interruption ---\n"
     ]
    }
   ],
   "source": [
    "graph.update_state(config=rollback_config, values=None, as_node=\"respond\")\n",
    "for event in graph.stream(None, rollback_config, stream_mode=\"values\"):\n",
    "    event['messages'][-1].pretty_print()"
   ]
  },
  {
   "cell_type": "markdown",
   "metadata": {},
   "source": [
    "## How to debug?\n",
    "`LangSmith` is a platform for building production-grade LLM applications. It allows you to monitor and evaluate your application, visualizing the message exchange with the LLMs. If interested, you can find more information [here](https://python.langchain.com/docs/how_to/debugging/).\n",
    "\n",
    "The main drawback of using LangSmith is that it is not free. It has a free-tier, but for more advanced features you will need to pay. An open-source alternative is [LangFuse](https://github.com/langfuse/langfuse). It presents a similar interface providing a completely free self-hosted solution and a cloud-based solution with a larger free-tier, compared to LangSmith."
   ]
  },
  {
   "cell_type": "code",
   "execution_count": 17,
   "metadata": {},
   "outputs": [
    {
     "data": {
      "text/plain": [
       "WeatherResponse(temperature=75.0, wind_directon='SE', wind_speed=4.82803)"
      ]
     },
     "execution_count": 17,
     "metadata": {},
     "output_type": "execute_result"
    }
   ],
   "source": [
    "from langfuse.callback import CallbackHandler\n",
    "langfuse_handler = CallbackHandler()\n",
    "config = {'callbacks': [langfuse_handler]}\n",
    "\n",
    "answer = graph.invoke(\n",
    "    input={\"messages\": [(\"human\", \"what's the weather in SF?\")]},\n",
    "    config=config,\n",
    ")[\n",
    "    \"final_response\"\n",
    "]\n",
    "answer"
   ]
  },
  {
   "cell_type": "code",
   "execution_count": null,
   "metadata": {},
   "outputs": [],
   "source": []
  }
 ],
 "metadata": {
  "kernelspec": {
   "display_name": ".venv",
   "language": "python",
   "name": "python3"
  },
  "language_info": {
   "codemirror_mode": {
    "name": "ipython",
    "version": 3
   },
   "file_extension": ".py",
   "mimetype": "text/x-python",
   "name": "python",
   "nbconvert_exporter": "python",
   "pygments_lexer": "ipython3",
   "version": "3.12.7"
  }
 },
 "nbformat": 4,
 "nbformat_minor": 2
}
